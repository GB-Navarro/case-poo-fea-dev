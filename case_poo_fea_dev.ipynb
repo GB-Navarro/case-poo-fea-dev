{
 "cells": [
  {
   "cell_type": "markdown",
   "metadata": {},
   "source": [
    "# **Módulo 1 - Introdução a Programação Orientada a Objetos**"
   ]
  },
  {
   "cell_type": "markdown",
   "metadata": {
    "vscode": {
     "languageId": "plaintext"
    }
   },
   "source": [
    "## **1.1 - O que é Programação Orientada a Objetos ?**"
   ]
  },
  {
   "cell_type": "markdown",
   "metadata": {},
   "source": [
    "A Programação Orientada a Objetos *(POO)* é um estilo de programação que organiza o código em unidades chamadas objetos. Esses objetos representam entidades do mundo real e possuem características *(dados)* e ações *(comportamentos)*. **Esse modelo facilita a organização do código e torna os programas mais intuitivos e modulares**.\n",
    "\n",
    "Em suma, esse paradigma visa aproximar a programação da forma como percebemos o mundo real, onde objetos interagem entre si para realizar tarefas."
   ]
  },
  {
   "cell_type": "markdown",
   "metadata": {
    "vscode": {
     "languageId": "plaintext"
    }
   },
   "source": [
    "#### **Diferença entre Programação Procedural e Programação Orientada a Objetos**"
   ]
  },
  {
   "cell_type": "markdown",
   "metadata": {},
   "source": [
    "A programação procedural, que geralmente é a primeira abordagem que aprendemos, organiza o código em funções e estruturas de controle, mantendo os dados e os procedimentos separados. Por outro lado, a Programação Orientada a Objetos encapsula dados e comportamentos dentro de objetos, promovendo uma estrutura mais modular, facilitando a reutilização e a manutenção do código."
   ]
  },
  {
   "cell_type": "markdown",
   "metadata": {},
   "source": [
    "##### *Exemplo de Programação Procedural*"
   ]
  },
  {
   "cell_type": "code",
   "execution_count": null,
   "metadata": {},
   "outputs": [],
   "source": [
    "# Procedural: Funções manipulam diretamente os dados\n",
    "def criar_conta(nome, saldo):\n",
    "    return {\"nome\": nome, \"saldo\": saldo}\n",
    "\n",
    "def depositar(conta, valor):\n",
    "    conta[\"saldo\"] += valor\n",
    "\n",
    "def exibir_saldo(conta):\n",
    "    print(f\"Saldo de {conta['nome']}: {conta['saldo']}\")\n",
    "\n",
    "# Uso\n",
    "diego = criar_conta(\"Diego\", 1000)\n",
    "depositar(diego, 500)\n",
    "exibir_saldo(diego)"
   ]
  },
  {
   "cell_type": "markdown",
   "metadata": {},
   "source": [
    "##### *Exemplo de Programação Orientada a Objetos*"
   ]
  },
  {
   "cell_type": "code",
   "execution_count": null,
   "metadata": {},
   "outputs": [],
   "source": [
    "# Orientado a Objetos: Criamos uma classe Conta\n",
    "class Conta:\n",
    "    def __init__(self, nome, saldo):\n",
    "        self.nome = nome\n",
    "        self.saldo = saldo\n",
    "    \n",
    "    def depositar(self, valor):\n",
    "        self.saldo += valor\n",
    "    \n",
    "    def exibir_saldo(self):\n",
    "        print(f\"Saldo de {self.nome}: {self.saldo}\")\n",
    "\n",
    "# Uso\n",
    "diego = Conta(\"Diego\", 1000)\n",
    "diego.depositar(500)\n",
    "diego.exibir_saldo()"
   ]
  },
  {
   "cell_type": "markdown",
   "metadata": {},
   "source": [
    "##### **Benefícios da Programação Orientada a Objetos**"
   ]
  },
  {
   "cell_type": "markdown",
   "metadata": {},
   "source": [
    "- Modularidade: O código é dividido em objetos independentes, facilitando a manutenção.\n",
    "  \n",
    "- Reutilização de Código: Classes podem ser reutilizadas em diferentes partes do projeto.\n",
    "  \n",
    "- Encapsulamento: Protege os dados do objeto e permite melhor controle de acesso.\n",
    "  \n",
    "- Flexibilidade e Extensibilidade: É fácil adicionar novas funcionalidades.\n",
    "  \n",
    "- Facilidade na modelagem: Permite criar representações próximas ao mundo real"
   ]
  },
  {
   "cell_type": "markdown",
   "metadata": {},
   "source": [
    "## **1.2 - Definições fundamentais**"
   ]
  },
  {
   "cell_type": "markdown",
   "metadata": {},
   "source": [
    "### **Classes**"
   ]
  },
  {
   "cell_type": "markdown",
   "metadata": {},
   "source": [
    "#### **Definição intuitiva**\n",
    "\n",
    "**Uma classe pode ser entendida como um molde ou projeto.**\n",
    "\n",
    "Exemplo intuitivo:\n",
    "Imagine que você quer construir várias casas. Contudo, antes de começar, precisa de um projeto que detalhe:\n",
    "\n",
    "- Número de quartos\n",
    "- Localização da porta\n",
    "- Tamanho das janelas\n",
    "- E outros detalhes importantes\n",
    "  \n",
    "**Esse projeto não é uma casa de verdade, mas define todas as informações necessárias para construir quantas casas você \n",
    "quiser. Esse projeto é o que chamamos de classe.**\n",
    "\n",
    "#### **Classes na programação**\n",
    "\n",
    "Em termos de programação, uma classe funciona da mesma forma. Ela é um projeto que define as características (atributos)\n",
    "e os comportamentos (métodos) de um tipo específico de elemento.\n",
    "\n",
    "Por exemplo, se quisermos representar carros no nosso programa, criamos uma classe chamada Carro. Essa classe vai dizer:\n",
    "\n",
    "- Quais informações cada carro terá (cor, modelo, ano de fabricação).\n",
    "- Quais ações o carro pode realizar (acelerar, frear, buzinar).\n",
    "\n",
    "#### **Outra forma de pensar em uma classe**\n",
    "\n",
    "**Uma classe também pode ser vista como a criação de um novo tipo de dado.**\n",
    "\n",
    "Em Python, já temos tipos de dados como int *(para números inteiros)*, str *(para textos)* e float *(para números decimais)*.\n",
    "**Quando você cria uma classe, está definindo seu próprio tipo de dado personalizado, com características e comportamentos únicos**.\n",
    "Por exemplo:\n",
    "\n",
    "Enquanto o tipo int serve para representar números inteiros. A classe Carro pode servir para representar carros, com todas \n",
    "as informações que você quiser incluir (como marca, cor e velocidade).\n"
   ]
  },
  {
   "cell_type": "code",
   "execution_count": 2,
   "metadata": {},
   "outputs": [],
   "source": [
    "# Vamos começar a criar uma classe para representar carros\n",
    "\n",
    "# Primeiro, vamos criar a estrutura base da nossa classe.\n",
    "# Neste momento, ela é apenas um \"projeto\" vazio, sem características nem comportamentos.\n",
    "\n",
    "class Carro:\n",
    "    pass    # Usamos a palavra-chave 'pass' para indicar que a classe está vazia por enquanto.\n",
    "            # Isso evita erros de sintaxe e nos permite continuar desenvolvendo o código depois.    "
   ]
  },
  {
   "cell_type": "markdown",
   "metadata": {},
   "source": [
    "### **Atributos**"
   ]
  },
  {
   "cell_type": "markdown",
   "metadata": {},
   "source": [
    "#### **Definição intuitiva**\n",
    "Depois de entender o que é uma classe (um molde ou projeto), **podemos pensar nos atributos como as características ou propriedades que definimos nesse projeto**.\n",
    "\n",
    "Exemplo intuitivo:\n",
    "Imagine novamente o projeto de uma casa. Esse projeto descreve várias características, como:\n",
    "\n",
    "- Número de quartos\n",
    "- Cor das paredes\n",
    "- Tamanho das janelas\n",
    "- E outros detalhes importantes\n",
    "\n",
    "Esses detalhes são os atributos da casa. Quando você constrói várias casas com base no mesmo projeto, cada uma pode ter atributos diferentes. \n",
    "\n",
    "Por exemplo:\n",
    "\n",
    "Uma casa pode ter 3 quartos e paredes azuis. Enquanto outra pode ter 4 quartos e paredes brancas.\n",
    "\n",
    "**Ou seja, mesmo que o projeto (classe) seja o mesmo, os atributos permitem que cada casa construída tenha suas próprias características únicas.**\n",
    "\n",
    "#### **Atributos na programação**\n",
    "**Em termos de programação, atributos são as informações que descrevem algo criado a partir de uma classe.**\n",
    "\n",
    "Por exemplo, se temos uma classe chamada Carro, os atributos podem ser:\n",
    "\n",
    "- cor (ex: vermelho, azul)\n",
    "- modelo (ex: Toyota, Ford)\n",
    "- ano de fabricação (ex: 2020, 2023)\n",
    "- velocidade atual (ex: 0 km/h, 60 km/h)\n",
    "  \n",
    "Cada carro que criamos a partir da classe Carro pode ter atributos diferentes. **Assim como no exemplo das casas, o molde é o mesmo, mas os detalhes (atributos) mudam de um carro para outro.**"
   ]
  },
  {
   "cell_type": "code",
   "execution_count": null,
   "metadata": {},
   "outputs": [],
   "source": [
    "# 2. Adicionando Atributos\n",
    "\n",
    "# Agora vamos definir as características (atributos) que cada carro terá.\n",
    "# Para isso, usamos uma função especial chamada __init__ \n",
    "# (explicaremos melhor sobre funções/métodos especiais em tópicos futuros).\n",
    "# O __init__ é automaticamente executado sempre que criamos um novo carro a partir da nossa classe.\n",
    "# Ele é responsável por inicializar o carro com as informações que fornecemos,\n",
    "# ou seja, atribui os valores passados como parâmetros (marca, modelo, ano, cor)\n",
    "# às características específicas do carro, definindo seus atributos iniciais.\n",
    "\n",
    "class Carro:\n",
    "    def __init__(self, marca, modelo, ano, cor):\n",
    "        # Observação importante:\n",
    "        # O parâmetro 'self' representa o próprio carro que está sendo criado.\n",
    "        # Ele é usado para acessar e definir as características (atributos) do carro,\n",
    "        # associando os valores que passamos como parâmetros (marca, modelo, ano, cor)\n",
    "        # às propriedades permanentes do carro (como self.marca, self.modelo, etc.).\n",
    "        \n",
    "        self.marca = marca       # 'self.marca' é o atributo do carro, ou seja, a marca que será armazenada no carro.\n",
    "                                 # 'marca' (sem o self) é o valor que passamos quando criamos o carro.\n",
    "                                 # Exemplo: se criarmos Carro(\"Toyota\", \"Corolla\", 2020, \"Vermelho\"),\n",
    "                                 # o valor \"Toyota\" será armazenado em self.marca.\n",
    "                                 \n",
    "        self.modelo = modelo     # 'self.modelo' é o atributo que guarda o modelo do carro.\n",
    "                                 # 'modelo' é o valor passado quando o carro é criado.\n",
    "                                 # Exemplo: \"Corolla\" será armazenado em self.modelo.\n",
    "                                 \n",
    "        self.ano = ano           # 'self.ano' é o atributo que representa o ano de fabricação do carro.\n",
    "                                 # 'ano' é o valor passado na criação do carro.\n",
    "                                 # Exemplo: 2020 será armazenado em self.ano.\n",
    "                                 \n",
    "        self.cor = cor           # 'self.cor' é o atributo que guarda a cor do carro.\n",
    "                                 # 'cor' é o valor fornecido ao criar o carro.\n",
    "                                 # Exemplo: \"Vermelho\" será armazenado em self.cor."
   ]
  },
  {
   "cell_type": "markdown",
   "metadata": {},
   "source": [
    "### **Métodos**"
   ]
  },
  {
   "cell_type": "markdown",
   "metadata": {},
   "source": [
    "#### **Definição intuitiva**\n",
    "Agora que sabemos que uma classe é um projeto e que os atributos são as características desse projeto, **podemos pensar nos métodos como as ações ou comportamentos que algo criado a partir da classe pode realizar**.\n",
    "\n",
    "Exemplo intuitivo:\n",
    "Voltando ao exemplo da casa, imagine que o projeto não define apenas as características (como o número de quartos), mas também o que a casa pode fazer, como:\n",
    "\n",
    "- Abrir portas\n",
    "- Acender luzes\n",
    "- Trancar janelas\n",
    "\n",
    "**Essas ações são os métodos da casa. Cada casa construída a partir do projeto pode realizar essas ações.**\n",
    "\n",
    "#### **Métodos na programação**\n",
    "**Na programação, métodos são funções associadas a uma classe. Eles definem o que os objetos (que são criados a partir da classe) podem fazer**.\n",
    "\n",
    "Se criarmos uma classe Carro, podemos definir métodos como:\n",
    "\n",
    "- acelerar() – para aumentar a velocidade do carro.\n",
    "- frear() – para reduzir a velocidade.\n",
    "- buzinar() – para emitir um som de buzina.\n",
    "  \n",
    "**Os métodos usam ou modificam os atributos do carro**. Por exemplo, o método acelerar() pode aumentar o valor do atributo velocidade atual."
   ]
  },
  {
   "cell_type": "code",
   "execution_count": null,
   "metadata": {},
   "outputs": [],
   "source": [
    "# 3. Adicionando Comportamentos (criando métodos)\n",
    "\n",
    "# Agora vamos adicionar comportamentos que o carro pode realizar.\n",
    "# Para isso, criaremos métodos, que são funções definidas dentro da classe.\n",
    "# Esses métodos descrevem ações específicas que o carro pode executar, como acelerar, frear ou buzinar.\n",
    "# Com isso, o carro deixa de ser apenas um conjunto de informações (atributos) e passa a interagir com o ambiente,\n",
    "# simulando comportamentos do mundo real.\n",
    "\n",
    "class Carro:\n",
    "    def __init__(self, marca, modelo, ano, cor):\n",
    "        self.marca = marca\n",
    "        self.modelo = modelo\n",
    "        self.ano = ano\n",
    "        self.cor = cor\n",
    "        self.velocidade = 0  # Começamos com o carro parado\n",
    "\n",
    "    def acelerar(self, incremento):\n",
    "        # O método acelerar aumenta o valor do atributo 'velocidade' do carro.\n",
    "        # O parâmetro 'incremento' define o quanto a velocidade deve aumentar.\n",
    "        # Por exemplo, se o carro estiver a 20 km/h e o incremento for 10, \n",
    "        # a nova velocidade será 30 km/h.\n",
    "        \n",
    "        self.velocidade += incremento\n",
    "        print(f\"O carro acelerou para {self.velocidade} km/h.\")\n",
    "\n",
    "    def frear(self, decremento):\n",
    "        # O método frear reduz o valor do atributo 'velocidade' do carro.\n",
    "        # O parâmetro 'decremento' define o quanto a velocidade deve diminuir.\n",
    "        # Por exemplo, se o carro estiver a 30 km/h e o decremento for 10, \n",
    "        # a nova velocidade será 20 km/h. Se tentar reduzir mais do que a velocidade atual,\n",
    "        # a velocidade será ajustada para 0 km/h.\n",
    "        \n",
    "        self.velocidade = max(0, self.velocidade - decremento) # A função max(0, ...) garante que a velocidade nunca será negativa.\n",
    "        print(f\"O carro desacelerou para {self.velocidade} km/h.\")\n",
    "\n",
    "    def buzinar(self):\n",
    "        # O método buzinar simula o som da buzina do carro.\n",
    "        # Quando chamado, ele simplesmente imprime \"Bii Bii!\".\n",
    "        \n",
    "        print(\"Bii Bii!\")"
   ]
  },
  {
   "cell_type": "markdown",
   "metadata": {},
   "source": [
    "#### **Métodos especiais**"
   ]
  },
  {
   "cell_type": "markdown",
   "metadata": {},
   "source": [
    "##### **Definição intuitiva**\n",
    "Agora que sabemos o que são métodos (as ações que um objeto pode realizar), podemos falar sobre os métodos especiais.\n",
    "\n",
    "**Os métodos especiais são ações especiais que a linguagem de programação já reconhece automaticamente**. Em Python, esses métodos têm uma nomenclatura distinta: começam e terminam com dois underlines (por exemplo, __init__). Os mais comuns são:\n",
    "\n",
    "- __init__ – Método de inicialização (construtor):\n",
    "\n",
    "        O __init__ é chamado automaticamente quando criamos uma instância da classe. Ele é conhecido como construtor porque sua função essencial é construir o objeto, ou seja, definir seus atributos iniciais e garantir que o objeto (conceito que exploraremos em breve) esteja pronto para uso.\n",
    "\n",
    "        Em termos simples, construtores configuram o estado inicial do objeto, estabelecendo os valores dos atributos que o definem. Por exemplo, ao criar um carro, o construtor define sua marca, modelo, ano e cor. Sem o construtor, o objeto seria criado, mas não teria características definidas.\n",
    "\n",
    "- __str__ – Método de representação textual:\n",
    "\n",
    "        Define como o objeto será exibido quando usarmos a função print(). Esse método retorna uma descrição legível do objeto, facilitando a visualização de suas informações."
   ]
  },
  {
   "cell_type": "code",
   "execution_count": 4,
   "metadata": {},
   "outputs": [],
   "source": [
    "# 3. Adicionando Comportamentos Especiais (criando métodos especiais)\n",
    "\n",
    "# Agora vamos adicionar um comportamento especial com o método __str__, que define como o objeto será representado como texto.\n",
    "# Também vamos destacar novamente o papel do método especial __init__, responsável por inicializar o objeto.\n",
    "\n",
    "class Carro:\n",
    "    def __init__(self, marca, modelo, ano, cor):\n",
    "        # O método __init__ é um método especial, também conhecido como construtor, e é chamado automaticamente \n",
    "        # sempre que criamos uma nova instância da classe Carro (iremos explorar o conceito de instância em breve).\n",
    "        # Construtores, como o __init__, têm a função de inicializar o objeto, configurando seus atributos iniciais.\n",
    "        # Neste caso, o carro é inicializado com as informações fornecidas: marca, modelo, ano, cor e velocidade.\n",
    "        \n",
    "        self.marca = marca\n",
    "        self.modelo = modelo\n",
    "        self.ano = ano\n",
    "        self.cor = cor\n",
    "        self.velocidade = 0\n",
    "\n",
    "    def acelerar(self, incremento):\n",
    "        self.velocidade += incremento\n",
    "        print(f\"O carro acelerou para {self.velocidade} km/h.\")\n",
    "\n",
    "    def frear(self, decremento):\n",
    "        self.velocidade = max(0, self.velocidade - decremento)\n",
    "        print(f\"O carro desacelerou para {self.velocidade} km/h.\")\n",
    "\n",
    "    def buzinar(self):\n",
    "        print(\"Bii Bii!\")\n",
    "\n",
    "    def __str__(self):\n",
    "        # O método __str__ é chamado automaticamente quando usamos a função print() em um objeto Carro.\n",
    "        # Ele retorna uma string que descreve o carro de forma legível, incluindo marca, modelo, ano, cor e velocidade atual.\n",
    "        \n",
    "        return f\"{self.marca} {self.modelo} ({self.ano}), cor {self.cor}, velocidade atual: {self.velocidade} km/h\"\n"
   ]
  },
  {
   "cell_type": "markdown",
   "metadata": {},
   "source": [
    "### **Objetos**"
   ]
  },
  {
   "cell_type": "markdown",
   "metadata": {},
   "source": [
    "#### **Definição intuitiva**"
   ]
  },
  {
   "cell_type": "markdown",
   "metadata": {},
   "source": [
    "Agora que sabemos o que é uma classe (projeto), o que são atributos (características) e o que são métodos (ações), podemos entender o que é um objeto.\n",
    "\n",
    "**Um objeto é um elemento concreto criado a partir da classe (projeto)**. Ele tem atributos definidos e é capaz de realizar ações (métodos).\n",
    "\n",
    "Exemplo intuitivo:\n",
    "**Se a classe é o projeto da casa, o objeto é a casa real construída a partir desse projeto.**\n",
    "\n",
    "Por exemplo:\n",
    "\n",
    "- Casa 1: 3 quartos, paredes azuis, janelas grandes.\n",
    "- Casa 2: 4 quartos, paredes brancas, janelas pequenas.\n",
    "  \n",
    "**Cada casa é um objeto que tem suas próprias características (atributos) e pode realizar ações (métodos), como abrir portas ou acender luzes.**"
   ]
  },
  {
   "cell_type": "markdown",
   "metadata": {},
   "source": [
    "#### **Instância de uma classe**"
   ]
  },
  {
   "cell_type": "markdown",
   "metadata": {},
   "source": [
    "\n",
    "**Uma instância é um termo técnico usado para descrever um objeto criado a partir de uma classe.**\n",
    "\n",
    "Imagine que você tem o projeto de uma casa. Esse projeto descreve como a casa deve ser: quantos quartos, o tamanho da sala, a cor das paredes, etc. Quando você usa esse projeto para construir uma casa real, essa casa é algo concreto. Cada casa construída a partir desse mesmo projeto é única, mas todas seguem a mesma estrutura.\n",
    "\n",
    "Na programação, acontece o mesmo: a classe é o projeto que define as características e comportamentos de algo. Quando criamos algo com base nesse projeto, temos um objeto. Cada objeto criado é uma instância única desse projeto, com suas próprias características. \n",
    "\n",
    "Por exemplo, com a classe Carro, podemos criar carro1 e carro2, cada um representando uma instância individual (ou seja, um objeto único criado a partir da classe), com sua própria marca, modelo e cor.\n"
   ]
  },
  {
   "cell_type": "markdown",
   "metadata": {},
   "source": [
    "#### **Objetos na programação**"
   ]
  },
  {
   "cell_type": "markdown",
   "metadata": {},
   "source": [
    "**Na programação, um objeto é uma instância da classe, ou seja, um exemplo específico da estrutura que definimos.**\n",
    "\n",
    "Exemplo prático:\n",
    "\n",
    "Quando criarmos um carro específico no nosso programa, utilizando a classe Carro que estamos desenvolvendo, faremos algo assim:\n",
    "\n",
    "```python\n",
    "meu_carro = Carro(\"Toyota\", \"Corolla\", 2020, \"vermelho\")\n",
    "```\n",
    "\n",
    "Esse meu_carro é um objeto da classe Carro, ou seja, uma instância da classe Carro. Ele tem:\n",
    "\n",
    "Atributos:\n",
    "\n",
    "- marca = Toyota\n",
    "- modelo = Corolla\n",
    "- ano = 2020\n",
    "- cor = vermelho\n",
    "\n",
    "Métodos que ele pode realizar:\n",
    "\n",
    "- meu_carro.acelerar() – aumenta a velocidade.\n",
    "- meu_carro.frear() – diminui a velocidade.\n",
    "- meu_carro.buzinar() – toca a buzina.\n",
    "\n",
    "Cada objeto criado a partir da classe Carro representa uma instância individual, com atributos próprios e capaz de realizar as ações definidas nos métodos da classe."
   ]
  },
  {
   "cell_type": "code",
   "execution_count": null,
   "metadata": {},
   "outputs": [],
   "source": [
    "# Relembrando como definimos a nossa classe Carro\n",
    "\n",
    "class Carro:\n",
    "    def __init__(self, marca, modelo, ano, cor):\n",
    "        self.marca = marca\n",
    "        self.modelo = modelo\n",
    "        self.ano = ano\n",
    "        self.cor = cor\n",
    "        self.velocidade = 0  # Começamos com o carro parado\n",
    "\n",
    "    def acelerar(self, incremento):\n",
    "        # O método acelerar aumenta o valor do atributo 'velocidade' do carro.\n",
    "        # O parâmetro 'incremento' define o quanto a velocidade deve aumentar.\n",
    "        # Por exemplo, se o carro estiver a 20 km/h e o incremento for 10, \n",
    "        # a nova velocidade será 30 km/h.\n",
    "        \n",
    "        self.velocidade += incremento\n",
    "        print(f\"O carro acelerou para {self.velocidade} km/h.\")\n",
    "\n",
    "    def frear(self, decremento):\n",
    "        # O método frear reduz o valor do atributo 'velocidade' do carro.\n",
    "        # O parâmetro 'decremento' define o quanto a velocidade deve diminuir.\n",
    "        # Por exemplo, se o carro estiver a 30 km/h e o decremento for 10, \n",
    "        # a nova velocidade será 20 km/h. Se tentar reduzir mais do que a velocidade atual,\n",
    "        # a velocidade será ajustada para 0 km/h.\n",
    "        \n",
    "        self.velocidade = max(0, self.velocidade - decremento) # A função max(0, ...) garante que a velocidade nunca será negativa.\n",
    "        print(f\"O carro desacelerou para {self.velocidade} km/h.\")\n",
    "\n",
    "    def buzinar(self):\n",
    "        # O método buzinar simula o som da buzina do carro.\n",
    "        # Quando chamado, ele simplesmente imprime \"Bii Bii!\".\n",
    "        \n",
    "        print(\"Bii Bii!\")\n",
    "        \n",
    "    def __str__(self):\n",
    "    # O método __str__ é chamado automaticamente quando usamos a função print() em um objeto Carro.\n",
    "    # Ele retorna uma string que descreve o carro de forma legível, incluindo marca, modelo, ano, cor e velocidade atual.\n",
    "    \n",
    "        return f\"{self.marca} {self.modelo} ({self.ano}), cor {self.cor}, velocidade atual: {self.velocidade} km/h\""
   ]
  },
  {
   "cell_type": "code",
   "execution_count": 13,
   "metadata": {},
   "outputs": [
    {
     "name": "stdout",
     "output_type": "stream",
     "text": [
      "O carro acelerou para 30 km/h.\n",
      "Velocidade atual do meu_carro: 30 km/h\n",
      "Bii Bii!\n",
      "O carro desacelerou para 20 km/h.\n",
      "Velocidade atual do meu_carro após frear: 20 km/h\n",
      "\n",
      "------------------------------------\n",
      "\n",
      "O carro acelerou para 50 km/h.\n",
      "Velocidade atual do carro_azul: 50 km/h\n",
      "Bii Bii!\n",
      "O carro desacelerou para 30 km/h.\n",
      "Velocidade atual do carro_azul após frear: 30 km/h\n",
      "O Toyota Corolla é da cor Vermelho e foi fabricado em 2020.\n",
      "O Ford Focus é da cor Azul e foi fabricado em 2018.\n",
      "O Honda Civic é da cor Preto e foi fabricado em 2022.\n"
     ]
    }
   ],
   "source": [
    "# 4. Criando um Objeto\n",
    "\n",
    "# Agora que temos a classe Carro pronta, com seus atributos e métodos definidos, vamos criar um objeto do tipo Carro.\n",
    "# Esse objeto é uma instância da classe Carro, representando um carro específico com características definidas.\n",
    "\n",
    "# Criando uma instância da classe Carro com marca Toyota, modelo Corolla, ano 2020 e cor Vermelho.\n",
    "meu_carro = Carro(\"Toyota\", \"Corolla\", 2020, \"Vermelho\")  \n",
    "\n",
    "# Agora vamos utilizar os métodos da classe para ver o comportamento desse objeto em ação:\n",
    "meu_carro.acelerar(30)  # Acelera o carro para 30 km/h.\n",
    "print(f\"Velocidade atual do meu_carro: {meu_carro.velocidade} km/h\")  # Exibe a velocidade atual após acelerar.\n",
    "\n",
    "meu_carro.buzinar()     # O carro emite o som da buzina: \"Bii Bii!\".\n",
    "\n",
    "meu_carro.frear(10)     # Reduz a velocidade do carro para 20 km/h.\n",
    "print(f\"Velocidade atual do meu_carro após frear: {meu_carro.velocidade} km/h\")  # Exibe a velocidade após frear.\n",
    "\n",
    "print(\"\\n------------------------------------\\n\")\n",
    "\n",
    "# Podemos criar várias outras instâncias da classe Carro, cada uma representando um carro diferente:\n",
    "carro_azul = Carro(\"Ford\", \"Focus\", 2018, \"Azul\")\n",
    "carro_preto = Carro(\"Honda\", \"Civic\", 2022, \"Preto\")\n",
    "\n",
    "# Cada instância tem seus próprios atributos e pode executar os mesmos métodos de forma independente:\n",
    "carro_azul.acelerar(50)  # O carro azul acelera para 50 km/h.\n",
    "print(f\"Velocidade atual do carro_azul: {carro_azul.velocidade} km/h\")  # Exibe a velocidade atual do carro azul.\n",
    "\n",
    "carro_preto.buzinar()    # O carro preto buzina: \"Bii Bii!\".\n",
    "\n",
    "carro_azul.frear(20)     # O carro azul reduz a velocidade para 30 km/h.\n",
    "print(f\"Velocidade atual do carro_azul após frear: {carro_azul.velocidade} km/h\")  # Exibe a velocidade após frear.\n",
    "\n",
    "# Para acessar os atributos dos objetos, basta referenciar o atributo desejado:\n",
    "print(f\"O {meu_carro.marca} {meu_carro.modelo} é da cor {meu_carro.cor} e foi fabricado em {meu_carro.ano}.\")\n",
    "print(f\"O {carro_azul.marca} {carro_azul.modelo} é da cor {carro_azul.cor} e foi fabricado em {carro_azul.ano}.\")\n",
    "print(f\"O {carro_preto.marca} {carro_preto.modelo} é da cor {carro_preto.cor} e foi fabricado em {carro_preto.ano}.\")\n"
   ]
  },
  {
   "cell_type": "markdown",
   "metadata": {},
   "source": [
    "### **Exercício: Simulando uma Carteira de Investimentos**\n",
    "\n",
    "Imagine que você é responsável por desenvolver um sistema simples de controle de investimentos para um investidor iniciante. Esse sistema precisa acompanhar diferentes ativos, como ações e títulos de renda fixa, calculando o valor atual de cada ativo e o retorno obtido."
   ]
  },
  {
   "cell_type": "markdown",
   "metadata": {},
   "source": [
    "#### **Parte 1: Criando a Classe AtivoFinanceiro**"
   ]
  },
  {
   "cell_type": "markdown",
   "metadata": {},
   "source": [
    "1. Crie uma classe chamada AtivoFinanceiro com os seguintes **atributos**:\n",
    "\n",
    "   - **nome**: Nome do ativo (ex: \"Ação Petrobras\").\n",
    "   - **valor_investido**: Valor inicial investido no ativo.\n",
    "   - **valor_atual**: Valor atual do ativo."
   ]
  },
  {
   "cell_type": "code",
   "execution_count": null,
   "metadata": {},
   "outputs": [],
   "source": [
    "# Seu código aqui"
   ]
  },
  {
   "cell_type": "markdown",
   "metadata": {},
   "source": [
    "2. Atualize o código acima criando métodos para:\n",
    "\n",
    "   - Atualizar o valor atual do ativo.\n",
    "   - Calcular o retorno percentual do ativo: \n",
    "    \n",
    "        $Retorno \\ (\\%) = \\dfrac{Valor \\ atual - Valor \\ Investido}{Valor \\ Investido}*100$\n",
    "  "
   ]
  },
  {
   "cell_type": "code",
   "execution_count": null,
   "metadata": {},
   "outputs": [],
   "source": [
    "# Seu código aqui"
   ]
  },
  {
   "cell_type": "markdown",
   "metadata": {},
   "source": [
    "#### **Parte 2: Criando Objetos e Testando a Classe**"
   ]
  },
  {
   "cell_type": "markdown",
   "metadata": {},
   "source": [
    "1. Utilizando a classe AtivoFinanceiro criada anteriormente, crie dois ativos financeiros distintos:\n",
    "\n",
    "   - Um ativo de renda variável (ex: \"Ação Itaú\", valor investido R$ 1000, valor atual R$ 1200).\n",
    "   - Um ativo de renda fixa (ex: \"Tesouro Direto\", valor investido R$ 2000, valor atual R$ 2050).\n",
    "\n",
    "2. Atualize o valor de um dos ativos.\n",
    "\n",
    "3. Calcule e imprima o retorno percentual de cada ativo."
   ]
  },
  {
   "cell_type": "code",
   "execution_count": null,
   "metadata": {},
   "outputs": [],
   "source": [
    "# Seu código aqui"
   ]
  },
  {
   "cell_type": "markdown",
   "metadata": {},
   "source": [
    "#### **Exercício Extra 1**"
   ]
  },
  {
   "cell_type": "markdown",
   "metadata": {},
   "source": [
    "Personalize a classe AtivoFinanceiro para exibir informações detalhadas sobre o ativo quando o objeto for impresso.\n",
    "\n",
    "Ao utilizar o comando print() em um objeto da classe AtivoFinanceiro, ele deve mostrar:\n",
    "\n",
    "- Nome do Ativo\n",
    "- Valor Investido\n",
    "- Valor Atual\n",
    "- Retorno Percentual (lucro ou prejuízo em relação ao valor investido)\n",
    "  \n",
    "**Dica:**\n",
    "**Utilize o método especial __str__, que permite definir como o objeto será representado em formato de texto. Esse método é automaticamente chamado quando usamos print() no objeto.**"
   ]
  },
  {
   "cell_type": "code",
   "execution_count": null,
   "metadata": {},
   "outputs": [],
   "source": [
    "# Seu código aqui"
   ]
  },
  {
   "cell_type": "markdown",
   "metadata": {},
   "source": [
    "#### **Parte 3: Criando uma Simples Carteira de Investimentos**"
   ]
  },
  {
   "cell_type": "markdown",
   "metadata": {},
   "source": [
    "Agora que você já criou ativos individuais, vamos criar uma Carteira de Investimentos.\n",
    "\n",
    "1. Crie uma classe chamada CarteiraInvestimentos.\n",
    "\n",
    "    - Essa classe deve ter um atributo ativos, que será uma lista de objetos do tipo AtivoFinanceiro.\n",
    "  \n",
    "2. Crie métodos para:\n",
    "   \n",
    "    - Adicionar um novo ativo à carteira.\n",
    "    - Calcular o valor total investido.\n",
    "    - Calcular o valor atual total.\n",
    "    - Calcular o retorno total da carteira."
   ]
  },
  {
   "cell_type": "code",
   "execution_count": null,
   "metadata": {},
   "outputs": [],
   "source": [
    "# Seu código aqui"
   ]
  },
  {
   "cell_type": "markdown",
   "metadata": {},
   "source": [
    "#### **Exercício Extra 2**"
   ]
  },
  {
   "cell_type": "markdown",
   "metadata": {},
   "source": [
    "Personalize a classe CarteiraInvestimentos para exibir informações detalhadas sobre a carteira quando o objeto for impresso.\n",
    "\n",
    "Ao utilizar o comando print() em um objeto da classe CarteiraInvestimentos, ele deve mostrar:\n",
    "\n",
    "- Lista de todos os ativos financeiros na carteira, com seus respectivos detalhes (nome do ativo, valor investido, valor atual e retorno percentual).\n",
    "- Valor Total Investido na carteira.\n",
    "- Valor Atual Total da carteira.\n",
    "- Retorno Percentual Total (lucro ou prejuízo considerando todos os ativos da carteira).\n",
    "\n",
    "**Dica:**\n",
    "**Utilize o método especial __str__, que permite definir como o objeto será representado em formato de texto. Esse método é automaticamente chamado quando usamos print() no objeto.**"
   ]
  },
  {
   "cell_type": "code",
   "execution_count": null,
   "metadata": {},
   "outputs": [],
   "source": [
    "# Seu código aqui"
   ]
  },
  {
   "cell_type": "markdown",
   "metadata": {},
   "source": [
    "#### **Parte 4: Testando a Carteira**"
   ]
  },
  {
   "cell_type": "markdown",
   "metadata": {},
   "source": [
    "1. Crie uma carteira de investimentos utilizando a classe CarteiraInvestimentos desenvolvida no exercício anterior.\n",
    "\n",
    "   - Pense na carteira como um portfólio real, onde você gerencia diversos ativos financeiros.\n",
    "\n",
    "   \n",
    "2. Adicione à sua carteira os dois ativos financeiros que você criou anteriormente.\n",
    "   - Inclua tanto a ação da empresa quanto o ativo de renda fixa para observar como diferentes tipos de investimentos impactam o desempenho da carteira.\n",
    "\n",
    "   \n",
    "3. Calcule e imprima os seguintes resultados:\n",
    "    - Valor Total Investido: A soma do valor inicial aplicado em todos os ativos.\n",
    "    - Valor Atual Total: O valor atual combinado de todos os ativos após as atualizações de mercado.\n",
    "    - Retorno Total da Carteira: O percentual de lucro ou prejuízo da carteira como um todo.\n",
    "\n",
    "**Dica: Use o método __str__ que você implementou para exibir os detalhes da carteira de forma clara e organizada. Isso simula um relatório financeiro, como aqueles que investidores e gestores recebem periodicamente!**"
   ]
  },
  {
   "cell_type": "code",
   "execution_count": null,
   "metadata": {},
   "outputs": [],
   "source": [
    "# Seu código aqui"
   ]
  },
  {
   "cell_type": "markdown",
   "metadata": {
    "vscode": {
     "languageId": "plaintext"
    }
   },
   "source": [
    "# **Módulo 2 - Avançando em Programação Orientada a Objetos**"
   ]
  },
  {
   "cell_type": "markdown",
   "metadata": {
    "vscode": {
     "languageId": "plaintext"
    }
   },
   "source": [
    "# **Modulo 3 - Aplicações Avançadas**"
   ]
  }
 ],
 "metadata": {
  "kernelspec": {
   "display_name": "Python 3",
   "language": "python",
   "name": "python3"
  },
  "language_info": {
   "codemirror_mode": {
    "name": "ipython",
    "version": 3
   },
   "file_extension": ".py",
   "mimetype": "text/x-python",
   "name": "python",
   "nbconvert_exporter": "python",
   "pygments_lexer": "ipython3",
   "version": "3.10.12"
  }
 },
 "nbformat": 4,
 "nbformat_minor": 2
}
