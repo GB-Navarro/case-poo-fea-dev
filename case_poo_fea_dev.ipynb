{
 "cells": [
  {
   "cell_type": "markdown",
   "metadata": {},
   "source": [
    "## **Módulo 1 - Introdução a Programação Orientada a Objetos**"
   ]
  },
  {
   "cell_type": "markdown",
   "metadata": {
    "vscode": {
     "languageId": "plaintext"
    }
   },
   "source": [
    "### **1.1 - O que é Programação Orientada a Objetos ?**"
   ]
  },
  {
   "cell_type": "markdown",
   "metadata": {},
   "source": [
    "A Programação Orientada a Objetos (POO) é um estilo de programação que organiza o código em unidades chamadas objetos. Esses objetos representam entidades do mundo real e possuem características (dados) e ações (comportamentos). **Esse modelo facilita a organização do código e torna os programas mais intuitivos e modulares**.\n",
    "\n",
    "Em suma, esse paradigma visa aproximar a programação da forma como percebemos o mundo real, onde objetos interagem entre si para realizar tarefas."
   ]
  },
  {
   "cell_type": "markdown",
   "metadata": {
    "vscode": {
     "languageId": "plaintext"
    }
   },
   "source": [
    "#### **Diferença entre Programação Procedural e Programação Orientada a Objetos**"
   ]
  },
  {
   "cell_type": "markdown",
   "metadata": {},
   "source": [
    "A programação procedural, que geralmente é a primeira abordagem que aprendemos, organiza o código em funções e estruturas de controle, mantendo os dados e os procedimentos separados. Por outro lado, a Programação Orientada a Objetos encapsula dados e comportamentos dentro de objetos, promovendo uma estrutura mais modular, facilitando a reutilização e a manutenção do código."
   ]
  },
  {
   "cell_type": "markdown",
   "metadata": {},
   "source": [
    "##### *Exemplo de Programação Procedural*"
   ]
  },
  {
   "cell_type": "code",
   "execution_count": null,
   "metadata": {},
   "outputs": [],
   "source": [
    "# Procedural: Funções manipulam diretamente os dados\n",
    "def criar_conta(nome, saldo):\n",
    "    return {\"nome\": nome, \"saldo\": saldo}\n",
    "\n",
    "def depositar(conta, valor):\n",
    "    conta[\"saldo\"] += valor\n",
    "\n",
    "def exibir_saldo(conta):\n",
    "    print(f\"Saldo de {conta['nome']}: {conta['saldo']}\")\n",
    "\n",
    "# Uso\n",
    "diego = criar_conta(\"Diego\", 1000)\n",
    "depositar(diego, 500)\n",
    "exibir_saldo(diego)"
   ]
  },
  {
   "cell_type": "markdown",
   "metadata": {},
   "source": [
    "##### *Exemplo de Programação Orientada a Objetos*"
   ]
  },
  {
   "cell_type": "code",
   "execution_count": null,
   "metadata": {},
   "outputs": [],
   "source": [
    "# Orientado a Objetos: Criamos uma classe Conta\n",
    "class Conta:\n",
    "    def __init__(self, nome, saldo):\n",
    "        self.nome = nome\n",
    "        self.saldo = saldo\n",
    "    \n",
    "    def depositar(self, valor):\n",
    "        self.saldo += valor\n",
    "    \n",
    "    def exibir_saldo(self):\n",
    "        print(f\"Saldo de {self.nome}: {self.saldo}\")\n",
    "\n",
    "# Uso\n",
    "diego = Conta(\"Diego\", 1000)\n",
    "diego.depositar(500)\n",
    "diego.exibir_saldo()"
   ]
  },
  {
   "cell_type": "markdown",
   "metadata": {},
   "source": [
    "##### **Benefícios da Programação Orientada a Objetos**"
   ]
  },
  {
   "cell_type": "markdown",
   "metadata": {},
   "source": [
    "- Modularidade: O código é dividido em objetos independentes, facilitando a manutenção.\n",
    "  \n",
    "- Reutilização de Código: Classes podem ser reutilizadas em diferentes partes do projeto.\n",
    "  \n",
    "- Encapsulamento: Protege os dados do objeto e permite melhor controle de acesso.\n",
    "  \n",
    "- Flexibilidade e Extensibilidade: É fácil adicionar novas funcionalidades.\n",
    "  \n",
    "- Facilidade na modelagem: Permite criar representações próximas ao mundo real"
   ]
  },
  {
   "cell_type": "markdown",
   "metadata": {},
   "source": [
    "### **1.2 - Fundamentos da Programação Orientada a Objetos**"
   ]
  },
  {
   "cell_type": "markdown",
   "metadata": {},
   "source": [
    "#### **Classes**"
   ]
  },
  {
   "cell_type": "markdown",
   "metadata": {},
   "source": [
    "*Explicar o que é uma classe...*"
   ]
  },
  {
   "cell_type": "code",
   "execution_count": null,
   "metadata": {},
   "outputs": [],
   "source": [
    "# Criar uma classe..."
   ]
  },
  {
   "cell_type": "markdown",
   "metadata": {},
   "source": [
    "#### **Objetos**"
   ]
  },
  {
   "cell_type": "markdown",
   "metadata": {},
   "source": [
    "*Explicar o que é um objeto...*"
   ]
  },
  {
   "cell_type": "markdown",
   "metadata": {},
   "source": [
    "##### O que é uma instância de um objeto ?"
   ]
  },
  {
   "cell_type": "markdown",
   "metadata": {},
   "source": [
    "*Explicar o que é uma instância de um objeto...*"
   ]
  },
  {
   "cell_type": "code",
   "execution_count": null,
   "metadata": {},
   "outputs": [],
   "source": [
    "# Instanciar um objeto..."
   ]
  },
  {
   "cell_type": "markdown",
   "metadata": {},
   "source": [
    "#### **Atributos**"
   ]
  },
  {
   "cell_type": "markdown",
   "metadata": {},
   "source": [
    "*Explicar o que é um atributo...*"
   ]
  },
  {
   "cell_type": "code",
   "execution_count": null,
   "metadata": {},
   "outputs": [],
   "source": [
    "# Criar alguns atributos..."
   ]
  },
  {
   "cell_type": "markdown",
   "metadata": {},
   "source": [
    "#### **Métodos**"
   ]
  },
  {
   "cell_type": "markdown",
   "metadata": {},
   "source": [
    "*Explicar o que é um método...* "
   ]
  },
  {
   "cell_type": "code",
   "execution_count": null,
   "metadata": {},
   "outputs": [],
   "source": [
    "# Criar alguns métodos..."
   ]
  },
  {
   "cell_type": "markdown",
   "metadata": {},
   "source": [
    "##### Métodos especiais"
   ]
  },
  {
   "cell_type": "markdown",
   "metadata": {},
   "source": [
    "*Explicar o que seriam os \"métodos especiais\"...*"
   ]
  },
  {
   "cell_type": "code",
   "execution_count": null,
   "metadata": {},
   "outputs": [],
   "source": [
    "# Mostrar o método Init... (Explicar o que são construtores)"
   ]
  },
  {
   "cell_type": "code",
   "execution_count": null,
   "metadata": {},
   "outputs": [],
   "source": [
    "# Mostrar alguns métodos mágicos/especiais..."
   ]
  },
  {
   "cell_type": "code",
   "execution_count": null,
   "metadata": {},
   "outputs": [],
   "source": [
    "# Falar de sobrecarga de construtores brevemente (aprofundar esse tópico em polimorfismo)..."
   ]
  },
  {
   "cell_type": "code",
   "execution_count": null,
   "metadata": {},
   "outputs": [],
   "source": [
    "# Falar dos destrutores ?"
   ]
  },
  {
   "cell_type": "markdown",
   "metadata": {
    "vscode": {
     "languageId": "plaintext"
    }
   },
   "source": [
    "## **Módulo 2 - Avançando em Programação Orientada a Objetos**"
   ]
  },
  {
   "cell_type": "markdown",
   "metadata": {
    "vscode": {
     "languageId": "plaintext"
    }
   },
   "source": [
    "## **Modulo 3 - Aplicações Avançadas**"
   ]
  }
 ],
 "metadata": {
  "kernelspec": {
   "display_name": "Python 3",
   "language": "python",
   "name": "python3"
  },
  "language_info": {
   "codemirror_mode": {
    "name": "ipython",
    "version": 3
   },
   "file_extension": ".py",
   "mimetype": "text/x-python",
   "name": "python",
   "nbconvert_exporter": "python",
   "pygments_lexer": "ipython3",
   "version": "3.10.12"
  }
 },
 "nbformat": 4,
 "nbformat_minor": 2
}
