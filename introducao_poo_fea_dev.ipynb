{
 "cells": [
  {
   "cell_type": "markdown",
   "metadata": {},
   "source": [
    "# **Módulo 1 - Introdução a Programação Orientada a Objetos**"
   ]
  },
  {
   "cell_type": "markdown",
   "metadata": {
    "vscode": {
     "languageId": "plaintext"
    }
   },
   "source": [
    "## **1.1 - O que é Programação Orientada a Objetos ?**"
   ]
  },
  {
   "cell_type": "markdown",
   "metadata": {},
   "source": [
    "A Programação Orientada a Objetos *(POO)* é um estilo de programação que organiza o código em unidades chamadas objetos. Esses objetos representam entidades do mundo real e possuem características *(dados)* e ações *(comportamentos)*. **Esse modelo facilita a organização do código e torna os programas mais intuitivos e modulares**.\n",
    "\n",
    "Em suma, esse paradigma visa aproximar a programação da forma como percebemos o mundo real, onde objetos interagem entre si para realizar tarefas."
   ]
  },
  {
   "cell_type": "markdown",
   "metadata": {
    "vscode": {
     "languageId": "plaintext"
    }
   },
   "source": [
    "#### **Diferença entre Programação Procedural e Programação Orientada a Objetos**"
   ]
  },
  {
   "cell_type": "markdown",
   "metadata": {},
   "source": [
    "A programação procedural, que geralmente é a primeira abordagem que aprendemos, organiza o código em funções e estruturas de controle, mantendo os dados e os procedimentos separados. Por outro lado, a Programação Orientada a Objetos encapsula dados e comportamentos dentro de objetos, promovendo uma estrutura mais modular, facilitando a reutilização e a manutenção do código."
   ]
  },
  {
   "cell_type": "markdown",
   "metadata": {},
   "source": [
    "##### *Exemplo de Programação Procedural*"
   ]
  },
  {
   "cell_type": "code",
   "execution_count": null,
   "metadata": {},
   "outputs": [],
   "source": [
    "# Procedural: Funções manipulam diretamente os dados\n",
    "def criar_conta(nome, saldo):\n",
    "    return {\"nome\": nome, \"saldo\": saldo}\n",
    "\n",
    "def depositar(conta, valor):\n",
    "    conta[\"saldo\"] += valor\n",
    "\n",
    "def exibir_saldo(conta):\n",
    "    print(f\"Saldo de {conta['nome']}: {conta['saldo']}\")\n",
    "\n",
    "# Uso\n",
    "diego = criar_conta(\"Diego\", 1000)\n",
    "depositar(diego, 500)\n",
    "exibir_saldo(diego)"
   ]
  },
  {
   "cell_type": "markdown",
   "metadata": {},
   "source": [
    "##### *Exemplo de Programação Orientada a Objetos*"
   ]
  },
  {
   "cell_type": "code",
   "execution_count": null,
   "metadata": {},
   "outputs": [],
   "source": [
    "# Orientado a Objetos: Criamos uma classe Conta\n",
    "class Conta:\n",
    "    def __init__(self, nome, saldo):\n",
    "        self.nome = nome\n",
    "        self.saldo = saldo\n",
    "    \n",
    "    def depositar(self, valor):\n",
    "        self.saldo += valor\n",
    "    \n",
    "    def exibir_saldo(self):\n",
    "        print(f\"Saldo de {self.nome}: {self.saldo}\")\n",
    "\n",
    "# Uso\n",
    "diego = Conta(\"Diego\", 1000)\n",
    "diego.depositar(500)\n",
    "diego.exibir_saldo()"
   ]
  },
  {
   "cell_type": "markdown",
   "metadata": {},
   "source": [
    "##### **Benefícios da Programação Orientada a Objetos**"
   ]
  },
  {
   "cell_type": "markdown",
   "metadata": {},
   "source": [
    "- Modularidade: O código é dividido em objetos independentes, facilitando a manutenção.\n",
    "  \n",
    "- Reutilização de Código: Classes podem ser reutilizadas em diferentes partes do projeto.\n",
    "  \n",
    "- Encapsulamento: Protege os dados do objeto e permite melhor controle de acesso.\n",
    "  \n",
    "- Flexibilidade e Extensibilidade: É fácil adicionar novas funcionalidades.\n",
    "  \n",
    "- Facilidade na modelagem: Permite criar representações próximas ao mundo real"
   ]
  },
  {
   "cell_type": "markdown",
   "metadata": {},
   "source": [
    "## **1.2 - Definições fundamentais**"
   ]
  },
  {
   "cell_type": "markdown",
   "metadata": {},
   "source": [
    "### **Classes**"
   ]
  },
  {
   "cell_type": "markdown",
   "metadata": {},
   "source": [
    "#### **Definição intuitiva**\n",
    "\n",
    "**Uma classe pode ser entendida como um molde ou projeto.**\n",
    "\n",
    "Exemplo intuitivo:\n",
    "Imagine que você quer construir várias casas. Contudo, antes de começar, precisa de um projeto que detalhe:\n",
    "\n",
    "- Número de quartos\n",
    "- Localização da porta\n",
    "- Tamanho das janelas\n",
    "- E outros detalhes importantes\n",
    "  \n",
    "**Esse projeto não é uma casa de verdade, mas define todas as informações necessárias para construir quantas casas você \n",
    "quiser. Esse projeto é o que chamamos de classe.**\n",
    "\n",
    "#### **Classes na programação**\n",
    "\n",
    "Em termos de programação, uma classe funciona da mesma forma. Ela é um projeto que define as características (atributos)\n",
    "e os comportamentos (métodos) de um tipo específico de elemento.\n",
    "\n",
    "Por exemplo, se quisermos representar carros no nosso programa, criamos uma classe chamada Carro. Essa classe vai dizer:\n",
    "\n",
    "- Quais informações cada carro terá (cor, modelo, ano de fabricação).\n",
    "- Quais ações o carro pode realizar (acelerar, frear, buzinar).\n",
    "\n",
    "#### **Outra forma de pensar em uma classe**\n",
    "\n",
    "**Uma classe também pode ser vista como a criação de um novo tipo de dado.**\n",
    "\n",
    "Em Python, já temos tipos de dados como int *(para números inteiros)*, str *(para textos)* e float *(para números decimais)*.\n",
    "**Quando você cria uma classe, está definindo seu próprio tipo de dado personalizado, com características e comportamentos únicos**.\n",
    "Por exemplo:\n",
    "\n",
    "Enquanto o tipo int serve para representar números inteiros. A classe Carro pode servir para representar carros, com todas \n",
    "as informações que você quiser incluir (como marca, cor e velocidade).\n"
   ]
  },
  {
   "cell_type": "code",
   "execution_count": 2,
   "metadata": {},
   "outputs": [],
   "source": [
    "# Vamos começar a criar uma classe para representar carros\n",
    "\n",
    "# Primeiro, vamos criar a estrutura base da nossa classe.\n",
    "# Neste momento, ela é apenas um \"projeto\" vazio, sem características nem comportamentos.\n",
    "\n",
    "class Carro:\n",
    "    pass    # Usamos a palavra-chave 'pass' para indicar que a classe está vazia por enquanto.\n",
    "            # Isso evita erros de sintaxe e nos permite continuar desenvolvendo o código depois.    "
   ]
  },
  {
   "cell_type": "markdown",
   "metadata": {},
   "source": [
    "### **Atributos**"
   ]
  },
  {
   "cell_type": "markdown",
   "metadata": {},
   "source": [
    "#### **Definição intuitiva**\n",
    "Depois de entender o que é uma classe (um molde ou projeto), **podemos pensar nos atributos como as características ou propriedades que definimos nesse projeto**.\n",
    "\n",
    "Exemplo intuitivo:\n",
    "Imagine novamente o projeto de uma casa. Esse projeto descreve várias características, como:\n",
    "\n",
    "- Número de quartos\n",
    "- Cor das paredes\n",
    "- Tamanho das janelas\n",
    "- E outros detalhes importantes\n",
    "\n",
    "Esses detalhes são os atributos da casa. Quando você constrói várias casas com base no mesmo projeto, cada uma pode ter atributos diferentes. \n",
    "\n",
    "Por exemplo:\n",
    "\n",
    "Uma casa pode ter 3 quartos e paredes azuis. Enquanto outra pode ter 4 quartos e paredes brancas.\n",
    "\n",
    "**Ou seja, mesmo que o projeto (classe) seja o mesmo, os atributos permitem que cada casa construída tenha suas próprias características únicas.**\n",
    "\n",
    "#### **Atributos na programação**\n",
    "**Em termos de programação, atributos são as informações que descrevem algo criado a partir de uma classe.**\n",
    "\n",
    "Por exemplo, se temos uma classe chamada Carro, os atributos podem ser:\n",
    "\n",
    "- cor (ex: vermelho, azul)\n",
    "- modelo (ex: Toyota, Ford)\n",
    "- ano de fabricação (ex: 2020, 2023)\n",
    "- velocidade atual (ex: 0 km/h, 60 km/h)\n",
    "  \n",
    "Cada carro que criamos a partir da classe Carro pode ter atributos diferentes. **Assim como no exemplo das casas, o molde é o mesmo, mas os detalhes (atributos) mudam de um carro para outro.**"
   ]
  },
  {
   "cell_type": "code",
   "execution_count": null,
   "metadata": {},
   "outputs": [],
   "source": [
    "# 2. Adicionando Atributos\n",
    "\n",
    "# Agora vamos definir as características (atributos) que cada carro terá.\n",
    "# Para isso, usamos uma função especial chamada __init__ \n",
    "# (explicaremos melhor sobre funções/métodos especiais em tópicos futuros).\n",
    "# O __init__ é automaticamente executado sempre que criamos um novo carro a partir da nossa classe.\n",
    "# Ele é responsável por inicializar o carro com as informações que fornecemos,\n",
    "# ou seja, atribui os valores passados como parâmetros (marca, modelo, ano, cor)\n",
    "# às características específicas do carro, definindo seus atributos iniciais.\n",
    "\n",
    "class Carro:\n",
    "    def __init__(self, marca, modelo, ano, cor):\n",
    "        # Observação importante:\n",
    "        # O parâmetro 'self' representa o próprio carro que está sendo criado.\n",
    "        # Ele é usado para acessar e definir as características (atributos) do carro,\n",
    "        # associando os valores que passamos como parâmetros (marca, modelo, ano, cor)\n",
    "        # às propriedades permanentes do carro (como self.marca, self.modelo, etc.).\n",
    "        \n",
    "        self.marca = marca       # 'self.marca' é o atributo do carro, ou seja, a marca que será armazenada no carro.\n",
    "                                 # 'marca' (sem o self) é o valor que passamos quando criamos o carro.\n",
    "                                 # Exemplo: se criarmos Carro(\"Toyota\", \"Corolla\", 2020, \"Vermelho\"),\n",
    "                                 # o valor \"Toyota\" será armazenado em self.marca.\n",
    "                                 \n",
    "        self.modelo = modelo     # 'self.modelo' é o atributo que guarda o modelo do carro.\n",
    "                                 # 'modelo' é o valor passado quando o carro é criado.\n",
    "                                 # Exemplo: \"Corolla\" será armazenado em self.modelo.\n",
    "                                 \n",
    "        self.ano = ano           # 'self.ano' é o atributo que representa o ano de fabricação do carro.\n",
    "                                 # 'ano' é o valor passado na criação do carro.\n",
    "                                 # Exemplo: 2020 será armazenado em self.ano.\n",
    "                                 \n",
    "        self.cor = cor           # 'self.cor' é o atributo que guarda a cor do carro.\n",
    "                                 # 'cor' é o valor fornecido ao criar o carro.\n",
    "                                 # Exemplo: \"Vermelho\" será armazenado em self.cor."
   ]
  },
  {
   "cell_type": "markdown",
   "metadata": {},
   "source": [
    "### **Métodos**"
   ]
  },
  {
   "cell_type": "markdown",
   "metadata": {},
   "source": [
    "#### **Definição intuitiva**\n",
    "Agora que sabemos que uma classe é um projeto e que os atributos são as características desse projeto, **podemos pensar nos métodos como as ações ou comportamentos que algo criado a partir da classe pode realizar**.\n",
    "\n",
    "Exemplo intuitivo:\n",
    "Voltando ao exemplo da casa, imagine que o projeto não define apenas as características (como o número de quartos), mas também o que a casa pode fazer, como:\n",
    "\n",
    "- Abrir portas\n",
    "- Acender luzes\n",
    "- Trancar janelas\n",
    "\n",
    "**Essas ações são os métodos da casa. Cada casa construída a partir do projeto pode realizar essas ações.**\n",
    "\n",
    "#### **Métodos na programação**\n",
    "**Na programação, métodos são funções associadas a uma classe. Eles definem o que os objetos (que são criados a partir da classe) podem fazer**.\n",
    "\n",
    "Se criarmos uma classe Carro, podemos definir métodos como:\n",
    "\n",
    "- acelerar() – para aumentar a velocidade do carro.\n",
    "- frear() – para reduzir a velocidade.\n",
    "- buzinar() – para emitir um som de buzina.\n",
    "  \n",
    "**Os métodos usam ou modificam os atributos do carro**. Por exemplo, o método acelerar() pode aumentar o valor do atributo velocidade atual."
   ]
  },
  {
   "cell_type": "code",
   "execution_count": null,
   "metadata": {},
   "outputs": [],
   "source": [
    "# 3. Adicionando Comportamentos (criando métodos)\n",
    "\n",
    "# Agora vamos adicionar comportamentos que o carro pode realizar.\n",
    "# Para isso, criaremos métodos, que são funções definidas dentro da classe.\n",
    "# Esses métodos descrevem ações específicas que o carro pode executar, como acelerar, frear ou buzinar.\n",
    "# Com isso, o carro deixa de ser apenas um conjunto de informações (atributos) e passa a interagir com o ambiente,\n",
    "# simulando comportamentos do mundo real.\n",
    "\n",
    "class Carro:\n",
    "    def __init__(self, marca, modelo, ano, cor):\n",
    "        self.marca = marca\n",
    "        self.modelo = modelo\n",
    "        self.ano = ano\n",
    "        self.cor = cor\n",
    "        self.velocidade = 0  # Começamos com o carro parado\n",
    "\n",
    "    def acelerar(self, incremento):\n",
    "        # O método acelerar aumenta o valor do atributo 'velocidade' do carro.\n",
    "        # O parâmetro 'incremento' define o quanto a velocidade deve aumentar.\n",
    "        # Por exemplo, se o carro estiver a 20 km/h e o incremento for 10, \n",
    "        # a nova velocidade será 30 km/h.\n",
    "        \n",
    "        self.velocidade += incremento\n",
    "        print(f\"O carro acelerou para {self.velocidade} km/h.\")\n",
    "\n",
    "    def frear(self, decremento):\n",
    "        # O método frear reduz o valor do atributo 'velocidade' do carro.\n",
    "        # O parâmetro 'decremento' define o quanto a velocidade deve diminuir.\n",
    "        # Por exemplo, se o carro estiver a 30 km/h e o decremento for 10, \n",
    "        # a nova velocidade será 20 km/h. Se tentar reduzir mais do que a velocidade atual,\n",
    "        # a velocidade será ajustada para 0 km/h.\n",
    "        \n",
    "        self.velocidade = max(0, self.velocidade - decremento) # A função max(0, ...) garante que a velocidade nunca será negativa.\n",
    "        print(f\"O carro desacelerou para {self.velocidade} km/h.\")\n",
    "\n",
    "    def buzinar(self):\n",
    "        # O método buzinar simula o som da buzina do carro.\n",
    "        # Quando chamado, ele simplesmente imprime \"Bii Bii!\".\n",
    "        \n",
    "        print(\"Bii Bii!\")"
   ]
  },
  {
   "cell_type": "markdown",
   "metadata": {},
   "source": [
    "#### **Métodos especiais**"
   ]
  },
  {
   "cell_type": "markdown",
   "metadata": {},
   "source": [
    "##### **Definição intuitiva**\n",
    "Agora que sabemos o que são métodos (as ações que um objeto pode realizar), podemos falar sobre os métodos especiais.\n",
    "\n",
    "**Os métodos especiais são ações especiais que a linguagem de programação já reconhece automaticamente**. Em Python, esses métodos têm uma nomenclatura distinta: começam e terminam com dois underlines (por exemplo, __init__). Os mais comuns são:\n",
    "\n",
    "- __init__ – Método de inicialização (construtor):\n",
    "\n",
    "        O __init__ é chamado automaticamente quando criamos uma instância da classe. Ele é conhecido como construtor porque sua função essencial é construir o objeto, ou seja, definir seus atributos iniciais e garantir que o objeto (conceito que exploraremos em breve) esteja pronto para uso.\n",
    "\n",
    "        Em termos simples, construtores configuram o estado inicial do objeto, estabelecendo os valores dos atributos que o definem. Por exemplo, ao criar um carro, o construtor define sua marca, modelo, ano e cor. Sem o construtor, o objeto seria criado, mas não teria características definidas.\n",
    "\n",
    "- __str__ – Método de representação textual:\n",
    "\n",
    "        Define como o objeto será exibido quando usarmos a função print(). Esse método retorna uma descrição legível do objeto, facilitando a visualização de suas informações."
   ]
  },
  {
   "cell_type": "code",
   "execution_count": 4,
   "metadata": {},
   "outputs": [],
   "source": [
    "# 3. Adicionando Comportamentos Especiais (criando métodos especiais)\n",
    "\n",
    "# Agora vamos adicionar um comportamento especial com o método __str__, que define como o objeto será representado como texto.\n",
    "# Também vamos destacar novamente o papel do método especial __init__, responsável por inicializar o objeto.\n",
    "\n",
    "class Carro:\n",
    "    def __init__(self, marca, modelo, ano, cor):\n",
    "        # O método __init__ é um método especial, também conhecido como construtor, e é chamado automaticamente \n",
    "        # sempre que criamos uma nova instância da classe Carro (iremos explorar o conceito de instância em breve).\n",
    "        # Construtores, como o __init__, têm a função de inicializar o objeto, configurando seus atributos iniciais.\n",
    "        # Neste caso, o carro é inicializado com as informações fornecidas: marca, modelo, ano, cor e velocidade.\n",
    "        \n",
    "        self.marca = marca\n",
    "        self.modelo = modelo\n",
    "        self.ano = ano\n",
    "        self.cor = cor\n",
    "        self.velocidade = 0\n",
    "\n",
    "    def acelerar(self, incremento):\n",
    "        self.velocidade += incremento\n",
    "        print(f\"O carro acelerou para {self.velocidade} km/h.\")\n",
    "\n",
    "    def frear(self, decremento):\n",
    "        self.velocidade = max(0, self.velocidade - decremento)\n",
    "        print(f\"O carro desacelerou para {self.velocidade} km/h.\")\n",
    "\n",
    "    def buzinar(self):\n",
    "        print(\"Bii Bii!\")\n",
    "\n",
    "    def __str__(self):\n",
    "        # O método __str__ é chamado automaticamente quando usamos a função print() em um objeto Carro.\n",
    "        # Ele retorna uma string que descreve o carro de forma legível, incluindo marca, modelo, ano, cor e velocidade atual.\n",
    "        \n",
    "        return f\"{self.marca} {self.modelo} ({self.ano}), cor {self.cor}, velocidade atual: {self.velocidade} km/h\"\n"
   ]
  },
  {
   "cell_type": "markdown",
   "metadata": {},
   "source": [
    "### **Objetos**"
   ]
  },
  {
   "cell_type": "markdown",
   "metadata": {},
   "source": [
    "#### **Definição intuitiva**"
   ]
  },
  {
   "cell_type": "markdown",
   "metadata": {},
   "source": [
    "Agora que sabemos o que é uma classe (projeto), o que são atributos (características) e o que são métodos (ações), podemos entender o que é um objeto.\n",
    "\n",
    "**Um objeto é um elemento concreto criado a partir da classe (projeto)**. Ele tem atributos definidos e é capaz de realizar ações (métodos).\n",
    "\n",
    "Exemplo intuitivo:\n",
    "**Se a classe é o projeto da casa, o objeto é a casa real construída a partir desse projeto.**\n",
    "\n",
    "Por exemplo:\n",
    "\n",
    "- Casa 1: 3 quartos, paredes azuis, janelas grandes.\n",
    "- Casa 2: 4 quartos, paredes brancas, janelas pequenas.\n",
    "  \n",
    "**Cada casa é um objeto que tem suas próprias características (atributos) e pode realizar ações (métodos), como abrir portas ou acender luzes.**"
   ]
  },
  {
   "cell_type": "markdown",
   "metadata": {},
   "source": [
    "#### **Instância de uma classe**"
   ]
  },
  {
   "cell_type": "markdown",
   "metadata": {},
   "source": [
    "\n",
    "**Uma instância é um termo técnico usado para descrever um objeto criado a partir de uma classe.**\n",
    "\n",
    "Imagine que você tem o projeto de uma casa. Esse projeto descreve como a casa deve ser: quantos quartos, o tamanho da sala, a cor das paredes, etc. Quando você usa esse projeto para construir uma casa real, essa casa é algo concreto. Cada casa construída a partir desse mesmo projeto é única, mas todas seguem a mesma estrutura.\n",
    "\n",
    "Na programação, acontece o mesmo: a classe é o projeto que define as características e comportamentos de algo. Quando criamos algo com base nesse projeto, temos um objeto. Cada objeto criado é uma instância única desse projeto, com suas próprias características. \n",
    "\n",
    "Por exemplo, com a classe Carro, podemos criar carro1 e carro2, cada um representando uma instância individual (ou seja, um objeto único criado a partir da classe), com sua própria marca, modelo e cor.\n"
   ]
  },
  {
   "cell_type": "markdown",
   "metadata": {},
   "source": [
    "#### **Objetos na programação**"
   ]
  },
  {
   "cell_type": "markdown",
   "metadata": {},
   "source": [
    "**Na programação, um objeto é uma instância da classe, ou seja, um exemplo específico da estrutura que definimos.**\n",
    "\n",
    "Exemplo prático:\n",
    "\n",
    "Quando criarmos um carro específico no nosso programa, utilizando a classe Carro que estamos desenvolvendo, faremos algo assim:\n",
    "\n",
    "```python\n",
    "meu_carro = Carro(\"Toyota\", \"Corolla\", 2020, \"vermelho\")\n",
    "```\n",
    "\n",
    "Esse meu_carro é um objeto da classe Carro, ou seja, uma instância da classe Carro. Ele tem:\n",
    "\n",
    "Atributos:\n",
    "\n",
    "- marca = Toyota\n",
    "- modelo = Corolla\n",
    "- ano = 2020\n",
    "- cor = vermelho\n",
    "\n",
    "Métodos que ele pode realizar:\n",
    "\n",
    "- meu_carro.acelerar() – aumenta a velocidade.\n",
    "- meu_carro.frear() – diminui a velocidade.\n",
    "- meu_carro.buzinar() – toca a buzina.\n",
    "\n",
    "Cada objeto criado a partir da classe Carro representa uma instância individual, com atributos próprios e capaz de realizar as ações definidas nos métodos da classe."
   ]
  },
  {
   "cell_type": "code",
   "execution_count": null,
   "metadata": {},
   "outputs": [],
   "source": [
    "# Relembrando como definimos a nossa classe Carro\n",
    "\n",
    "class Carro:\n",
    "    def __init__(self, marca, modelo, ano, cor):\n",
    "        self.marca = marca\n",
    "        self.modelo = modelo\n",
    "        self.ano = ano\n",
    "        self.cor = cor\n",
    "        self.velocidade = 0  # Começamos com o carro parado\n",
    "\n",
    "    def acelerar(self, incremento):\n",
    "        # O método acelerar aumenta o valor do atributo 'velocidade' do carro.\n",
    "        # O parâmetro 'incremento' define o quanto a velocidade deve aumentar.\n",
    "        # Por exemplo, se o carro estiver a 20 km/h e o incremento for 10, \n",
    "        # a nova velocidade será 30 km/h.\n",
    "        \n",
    "        self.velocidade += incremento\n",
    "        print(f\"O carro acelerou para {self.velocidade} km/h.\")\n",
    "\n",
    "    def frear(self, decremento):\n",
    "        # O método frear reduz o valor do atributo 'velocidade' do carro.\n",
    "        # O parâmetro 'decremento' define o quanto a velocidade deve diminuir.\n",
    "        # Por exemplo, se o carro estiver a 30 km/h e o decremento for 10, \n",
    "        # a nova velocidade será 20 km/h. Se tentar reduzir mais do que a velocidade atual,\n",
    "        # a velocidade será ajustada para 0 km/h.\n",
    "        \n",
    "        self.velocidade = max(0, self.velocidade - decremento) # A função max(0, ...) garante que a velocidade nunca será negativa.\n",
    "        print(f\"O carro desacelerou para {self.velocidade} km/h.\")\n",
    "\n",
    "    def buzinar(self):\n",
    "        # O método buzinar simula o som da buzina do carro.\n",
    "        # Quando chamado, ele simplesmente imprime \"Bii Bii!\".\n",
    "        \n",
    "        print(\"Bii Bii!\")\n",
    "        \n",
    "    def __str__(self):\n",
    "    # O método __str__ é chamado automaticamente quando usamos a função print() em um objeto Carro.\n",
    "    # Ele retorna uma string que descreve o carro de forma legível, incluindo marca, modelo, ano, cor e velocidade atual.\n",
    "    \n",
    "        return f\"{self.marca} {self.modelo} ({self.ano}), cor {self.cor}, velocidade atual: {self.velocidade} km/h\""
   ]
  },
  {
   "cell_type": "code",
   "execution_count": 13,
   "metadata": {},
   "outputs": [
    {
     "name": "stdout",
     "output_type": "stream",
     "text": [
      "O carro acelerou para 30 km/h.\n",
      "Velocidade atual do meu_carro: 30 km/h\n",
      "Bii Bii!\n",
      "O carro desacelerou para 20 km/h.\n",
      "Velocidade atual do meu_carro após frear: 20 km/h\n",
      "\n",
      "------------------------------------\n",
      "\n",
      "O carro acelerou para 50 km/h.\n",
      "Velocidade atual do carro_azul: 50 km/h\n",
      "Bii Bii!\n",
      "O carro desacelerou para 30 km/h.\n",
      "Velocidade atual do carro_azul após frear: 30 km/h\n",
      "O Toyota Corolla é da cor Vermelho e foi fabricado em 2020.\n",
      "O Ford Focus é da cor Azul e foi fabricado em 2018.\n",
      "O Honda Civic é da cor Preto e foi fabricado em 2022.\n"
     ]
    }
   ],
   "source": [
    "# 4. Criando um Objeto\n",
    "\n",
    "# Agora que temos a classe Carro pronta, com seus atributos e métodos definidos, vamos criar um objeto do tipo Carro.\n",
    "# Esse objeto é uma instância da classe Carro, representando um carro específico com características definidas.\n",
    "\n",
    "# Criando uma instância da classe Carro com marca Toyota, modelo Corolla, ano 2020 e cor Vermelho.\n",
    "meu_carro = Carro(\"Toyota\", \"Corolla\", 2020, \"Vermelho\")  \n",
    "\n",
    "# Agora vamos utilizar os métodos da classe para ver o comportamento desse objeto em ação:\n",
    "meu_carro.acelerar(30)  # Acelera o carro para 30 km/h.\n",
    "print(f\"Velocidade atual do meu_carro: {meu_carro.velocidade} km/h\")  # Exibe a velocidade atual após acelerar.\n",
    "\n",
    "meu_carro.buzinar()     # O carro emite o som da buzina: \"Bii Bii!\".\n",
    "\n",
    "meu_carro.frear(10)     # Reduz a velocidade do carro para 20 km/h.\n",
    "print(f\"Velocidade atual do meu_carro após frear: {meu_carro.velocidade} km/h\")  # Exibe a velocidade após frear.\n",
    "\n",
    "print(\"\\n------------------------------------\\n\")\n",
    "\n",
    "# Podemos criar várias outras instâncias da classe Carro, cada uma representando um carro diferente:\n",
    "carro_azul = Carro(\"Ford\", \"Focus\", 2018, \"Azul\")\n",
    "carro_preto = Carro(\"Honda\", \"Civic\", 2022, \"Preto\")\n",
    "\n",
    "# Cada instância tem seus próprios atributos e pode executar os mesmos métodos de forma independente:\n",
    "carro_azul.acelerar(50)  # O carro azul acelera para 50 km/h.\n",
    "print(f\"Velocidade atual do carro_azul: {carro_azul.velocidade} km/h\")  # Exibe a velocidade atual do carro azul.\n",
    "\n",
    "carro_preto.buzinar()    # O carro preto buzina: \"Bii Bii!\".\n",
    "\n",
    "carro_azul.frear(20)     # O carro azul reduz a velocidade para 30 km/h.\n",
    "print(f\"Velocidade atual do carro_azul após frear: {carro_azul.velocidade} km/h\")  # Exibe a velocidade após frear.\n",
    "\n",
    "# Para acessar os atributos dos objetos, basta referenciar o atributo desejado:\n",
    "print(f\"O {meu_carro.marca} {meu_carro.modelo} é da cor {meu_carro.cor} e foi fabricado em {meu_carro.ano}.\")\n",
    "print(f\"O {carro_azul.marca} {carro_azul.modelo} é da cor {carro_azul.cor} e foi fabricado em {carro_azul.ano}.\")\n",
    "print(f\"O {carro_preto.marca} {carro_preto.modelo} é da cor {carro_preto.cor} e foi fabricado em {carro_preto.ano}.\")\n"
   ]
  },
  {
   "cell_type": "markdown",
   "metadata": {},
   "source": [
    "### **Exercício: Simulando uma Carteira de Investimentos**\n",
    "\n",
    "Imagine que você é responsável por desenvolver um sistema simples de controle de investimentos para um investidor iniciante. Esse sistema precisa acompanhar diferentes ativos, como ações e títulos de renda fixa, calculando o valor atual de cada ativo e o retorno obtido."
   ]
  },
  {
   "cell_type": "markdown",
   "metadata": {},
   "source": [
    "#### **Parte 1: Criando a Classe AtivoFinanceiro**"
   ]
  },
  {
   "cell_type": "markdown",
   "metadata": {},
   "source": [
    "1. Crie uma classe chamada AtivoFinanceiro com os seguintes **atributos**:\n",
    "\n",
    "   - **nome**: Nome do ativo (ex: \"Ação Petrobras\").\n",
    "   - **valor_investido**: Valor inicial investido no ativo.\n",
    "   - **valor_atual**: Valor atual do ativo."
   ]
  },
  {
   "cell_type": "code",
   "execution_count": null,
   "metadata": {},
   "outputs": [],
   "source": [
    "# Seu código aqui"
   ]
  },
  {
   "cell_type": "markdown",
   "metadata": {},
   "source": [
    "2. Atualize o código acima criando métodos para:\n",
    "\n",
    "   - Atualizar o valor atual do ativo.\n",
    "   - Calcular o retorno percentual do ativo: \n",
    "    \n",
    "        $Retorno \\ (\\%) = \\dfrac{Valor \\ atual - Valor \\ Investido}{Valor \\ Investido}*100$\n",
    "  "
   ]
  },
  {
   "cell_type": "code",
   "execution_count": null,
   "metadata": {},
   "outputs": [],
   "source": [
    "# Seu código aqui"
   ]
  },
  {
   "cell_type": "markdown",
   "metadata": {},
   "source": [
    "#### **Parte 2: Criando Objetos e Testando a Classe**"
   ]
  },
  {
   "cell_type": "markdown",
   "metadata": {},
   "source": [
    "1. Utilizando a classe AtivoFinanceiro criada anteriormente, crie dois ativos financeiros distintos:\n",
    "\n",
    "   - Um ativo de renda variável (ex: \"Ação Itaú\", valor investido R$ 1000, valor atual R$ 1200).\n",
    "   - Um ativo de renda fixa (ex: \"Tesouro Direto\", valor investido R$ 2000, valor atual R$ 2050).\n",
    "\n",
    "2. Atualize o valor de um dos ativos.\n",
    "\n",
    "3. Calcule e imprima o retorno percentual de cada ativo."
   ]
  },
  {
   "cell_type": "code",
   "execution_count": null,
   "metadata": {},
   "outputs": [],
   "source": [
    "# Seu código aqui"
   ]
  },
  {
   "cell_type": "markdown",
   "metadata": {},
   "source": [
    "#### **Exercício Extra 1**"
   ]
  },
  {
   "cell_type": "markdown",
   "metadata": {},
   "source": [
    "Personalize a classe AtivoFinanceiro para exibir informações detalhadas sobre o ativo quando o objeto for impresso.\n",
    "\n",
    "Ao utilizar o comando print() em um objeto da classe AtivoFinanceiro, ele deve mostrar:\n",
    "\n",
    "- Nome do Ativo\n",
    "- Valor Investido\n",
    "- Valor Atual\n",
    "- Retorno Percentual (lucro ou prejuízo em relação ao valor investido)\n",
    "  \n",
    "**Dica:**\n",
    "**Utilize o método especial __str__, que permite definir como o objeto será representado em formato de texto. Esse método é automaticamente chamado quando usamos print() no objeto.**"
   ]
  },
  {
   "cell_type": "code",
   "execution_count": null,
   "metadata": {},
   "outputs": [],
   "source": [
    "# Seu código aqui"
   ]
  },
  {
   "cell_type": "markdown",
   "metadata": {},
   "source": [
    "#### **Parte 3: Criando uma Simples Carteira de Investimentos**"
   ]
  },
  {
   "cell_type": "markdown",
   "metadata": {},
   "source": [
    "Agora que você já criou ativos individuais, vamos criar uma Carteira de Investimentos.\n",
    "\n",
    "1. Crie uma classe chamada CarteiraInvestimentos.\n",
    "\n",
    "    - Essa classe deve ter um atributo ativos, que será uma lista de objetos do tipo AtivoFinanceiro.\n",
    "  \n",
    "2. Crie métodos para:\n",
    "   \n",
    "    - Adicionar um novo ativo à carteira.\n",
    "    - Calcular o valor total investido.\n",
    "    - Calcular o valor atual total.\n",
    "    - Calcular o retorno total da carteira."
   ]
  },
  {
   "cell_type": "code",
   "execution_count": null,
   "metadata": {},
   "outputs": [],
   "source": [
    "# Seu código aqui"
   ]
  },
  {
   "cell_type": "markdown",
   "metadata": {},
   "source": [
    "#### **Exercício Extra 2**"
   ]
  },
  {
   "cell_type": "markdown",
   "metadata": {},
   "source": [
    "Personalize a classe CarteiraInvestimentos para exibir informações detalhadas sobre a carteira quando o objeto for impresso.\n",
    "\n",
    "Ao utilizar o comando print() em um objeto da classe CarteiraInvestimentos, ele deve mostrar:\n",
    "\n",
    "- Lista de todos os ativos financeiros na carteira, com seus respectivos detalhes (nome do ativo, valor investido, valor atual e retorno percentual).\n",
    "- Valor Total Investido na carteira.\n",
    "- Valor Atual Total da carteira.\n",
    "- Retorno Percentual Total (lucro ou prejuízo considerando todos os ativos da carteira).\n",
    "\n",
    "**Dica:**\n",
    "**Utilize o método especial __str__, que permite definir como o objeto será representado em formato de texto. Esse método é automaticamente chamado quando usamos print() no objeto.**"
   ]
  },
  {
   "cell_type": "code",
   "execution_count": null,
   "metadata": {},
   "outputs": [],
   "source": [
    "# Seu código aqui"
   ]
  },
  {
   "cell_type": "markdown",
   "metadata": {},
   "source": [
    "#### **Parte 4: Testando a Carteira**"
   ]
  },
  {
   "cell_type": "markdown",
   "metadata": {},
   "source": [
    "1. Crie uma carteira de investimentos utilizando a classe CarteiraInvestimentos desenvolvida no exercício anterior.\n",
    "\n",
    "   - Pense na carteira como um portfólio real, onde você gerencia diversos ativos financeiros.\n",
    "\n",
    "   \n",
    "2. Adicione à sua carteira os dois ativos financeiros que você criou anteriormente.\n",
    "   - Inclua tanto a ação da empresa quanto o ativo de renda fixa para observar como diferentes tipos de investimentos impactam o desempenho da carteira.\n",
    "\n",
    "   \n",
    "3. Calcule e imprima os seguintes resultados:\n",
    "    - Valor Total Investido: A soma do valor inicial aplicado em todos os ativos.\n",
    "    - Valor Atual Total: O valor atual combinado de todos os ativos após as atualizações de mercado.\n",
    "    - Retorno Total da Carteira: O percentual de lucro ou prejuízo da carteira como um todo.\n",
    "\n",
    "**Dica: Use o método __str__ que você implementou para exibir os detalhes da carteira de forma clara e organizada. Isso simula um relatório financeiro, como aqueles que investidores e gestores recebem periodicamente!**"
   ]
  },
  {
   "cell_type": "code",
   "execution_count": null,
   "metadata": {},
   "outputs": [],
   "source": [
    "# Seu código aqui"
   ]
  },
  {
   "cell_type": "markdown",
   "metadata": {
    "vscode": {
     "languageId": "plaintext"
    }
   },
   "source": [
    "# **Módulo 2 - Avançando em Programação Orientada a Objetos**"
   ]
  },
  {
   "cell_type": "markdown",
   "metadata": {},
   "source": [
    "## **2.1 - Os 4 Conceitos Fundamentais da Programação Orientada a Objetos**"
   ]
  },
  {
   "cell_type": "markdown",
   "metadata": {},
   "source": [
    "### **Abstração**"
   ]
  },
  {
   "cell_type": "markdown",
   "metadata": {},
   "source": [
    "#### **Definição intuitiva**\n",
    "\n",
    "**Abstração é o processo de esconder detalhes desnecessários e mostrar apenas o que é essencial**.\n",
    "\n",
    "Imagine um carro. Quando você dirige, não precisa saber exatamente como o motor funciona internamente, quais circuitos elétricos estão ativados ou como o combustível é processado. Você apenas interage com o carro por meio do volante, pedais e painel de controle. Ou seja, você se preocupa apenas com o que é necessário para dirigir. **Isso é abstração: mostrar apenas as informações relevantes e ocultar os detalhes internos**."
   ]
  },
  {
   "cell_type": "markdown",
   "metadata": {},
   "source": [
    "#### **Abstração na programação**\n",
    "\n",
    "Na programação, a abstração funciona da mesma forma. Criamos classes que representam conceitos do mundo real, mas **escondemos os detalhes internos de implementação e mostramos apenas o necessário para quem usa a classe**.\n",
    "\n",
    "**Por exemplo, podemos ter uma classe OrdemDeCompra que permite um investidor comprar ações, sem precisar expor os detalhes de como a ordem é processada na bolsa de valores**."
   ]
  },
  {
   "cell_type": "code",
   "execution_count": 5,
   "metadata": {},
   "outputs": [
    {
     "name": "stdout",
     "output_type": "stream",
     "text": [
      "Enviando ordem de compra: 100 ações de PETR4 a R$ 32.50\n"
     ]
    }
   ],
   "source": [
    "class OrdemDeCompra:\n",
    "    def __init__(self, ativo, quantidade, preco):\n",
    "        self.ativo = ativo\n",
    "        self.quantidade = quantidade\n",
    "        self.preco = preco\n",
    "\n",
    "    def executar(self):\n",
    "        print(f\"Enviando ordem de compra: {self.quantidade} ações de {self.ativo} a R$ {self.preco:.2f}\")\n",
    "\n",
    "# Criando uma ordem de compra\n",
    "ordem = OrdemDeCompra(\"PETR4\", 100, 32.50)\n",
    "ordem.executar()  # Saída esperada: \"Enviando ordem de compra: 100 ações de PETR4 a R$ 32.50\""
   ]
  },
  {
   "cell_type": "markdown",
   "metadata": {},
   "source": [
    "**Aqui, a abstração permite que o usuário envie ordens de compra sem precisar saber como a ordem é roteada para o mercado, como os custos são calculados ou como os dados são armazenados. A classe esconde esses detalhes e expõe apenas o necessário para operar.**\n",
    "\n",
    "*Vale destacar que, no exemplo acima, o processo de emissão da ordem de compra não foi efetivamente implementado. O objetivo é apenas ilustrar o conceito de abstração. Mesmo que a lógica real de envio de ordens fosse adicionada, a maneira como o usuário interage com a classe permaneceria a mesma — bastaria chamar o método executar(), sem precisar se preocupar com os detalhes internos. Essa é a essência da abstração na POO.*"
   ]
  },
  {
   "cell_type": "markdown",
   "metadata": {},
   "source": [
    "### **Encapsulamento**"
   ]
  },
  {
   "cell_type": "markdown",
   "metadata": {},
   "source": [
    "#### **Definição intuitiva**\n",
    "\n",
    "**Encapsulamento significa proteger os dados de acesso indevido e garantir que eles só possam ser modificados de maneira controlada**.\n",
    "\n",
    "Pense em um cofre de banco. Você não pode simplesmente abrir e pegar o dinheiro sem passar pelos procedimentos adequados. Você precisa de uma chave ou senha para acessar o conteúdo.\n",
    "\n",
    "**No mundo da programação, o encapsulamento funciona de maneira semelhante: os atributos e métodos de um objeto podem ser protegidos para que só possam ser acessados ou modificados de maneira controlada**."
   ]
  },
  {
   "cell_type": "markdown",
   "metadata": {},
   "source": [
    "#### **Encapsulamento na programação**\n",
    "\n",
    "Em programação, usamos modificadores de acesso para restringir o acesso direto a certos atributos e métodos de uma classe. **Em Python, seguimos uma convenção para diferenciar atributos e métodos públicos, protegidos e privados.**\n",
    "\n",
    "Métodos e atributos públicos, protegidos e privados em Python:\n",
    "- Públicos: Podem ser acessados diretamente de fora da classe.\n",
    "  \n",
    "- Protegidos (_atributo | _método): Devem ser tratados como internos à classe, mas ainda podem ser acessados fora dela (por convenção, não por restrição técnica).\n",
    "  \n",
    "- Privados (__atributo | __método): Não podem ser acessados diretamente de fora da classe, pois o Python aplica uma modificação de nome (name mangling).\n",
    "\n"
   ]
  },
  {
   "cell_type": "code",
   "execution_count": null,
   "metadata": {},
   "outputs": [
    {
     "name": "stdout",
     "output_type": "stream",
     "text": [
      "1000\n",
      "800\n",
      "800\n",
      "1234\n"
     ]
    }
   ],
   "source": [
    "class ContaBancaria:\n",
    "    def __init__(self, titular, saldo):\n",
    "        self.titular = titular   # Atributo público\n",
    "        self._saldo = saldo      # Atributo protegido (_atributo)\n",
    "        self.__senha = \"1234\"    # Atributo privado (__atributo)\n",
    "\n",
    "    def depositar(self, valor):  # Método público\n",
    "        self._saldo += valor\n",
    "\n",
    "    def sacar(self, valor):  # Método público\n",
    "        if valor <= self._saldo:\n",
    "            self._saldo -= valor\n",
    "        else:\n",
    "            print(\"Saldo insuficiente\")\n",
    "\n",
    "    def get_saldo(self):  # Método público \n",
    "        return self._saldo  \n",
    "\n",
    "    def __verificar_senha(self, senha):  # Método privado (__método)\n",
    "        return senha == self.__senha  \n",
    "\n",
    "# Criando um objeto da classe ContaBancaria\n",
    "minha_conta = ContaBancaria(\"Gabriel\", 1000)\n",
    "\n",
    "# Acessando métodos públicos\n",
    "print(minha_conta.get_saldo())  # Saída esperada: 1000\n",
    "minha_conta.sacar(200)\n",
    "print(minha_conta.get_saldo())  # Saída esperada: 800\n",
    "\n",
    "# Tentando acessar um atributo protegido (possível, mas não recomendado)\n",
    "print(minha_conta._saldo)  # Saída esperada: 800\n",
    "\n",
    "# Tentando acessar um atributo privado (não pode ser acessado diretamente)\n",
    "# print(minha_conta.__senha)  # Isso geraria um erro!\n",
    "# Porém, devido ao name mangling, podemos acessar manualmente (NÃO RECOMENDADO)\n",
    "print(minha_conta._ContaBancaria__senha)  # Saída esperada: 1234"
   ]
  },
  {
   "cell_type": "markdown",
   "metadata": {},
   "source": [
    "#### **Observação**\n",
    "\n",
    "**Em Python, não existe efetivamente o conceito de atributos privados e protegidos como em linguagens como Java e C++.**\n",
    "\n",
    "Isso acontece porque Python segue a filosofia de \"somos todos adultos aqui\" (We are all consenting adults here). Ou seja, em vez de impor restrições rígidas, Python confia que os desenvolvedores seguirão as convenções estabelecidas.\n",
    "\n",
    "Por exemplo:\n",
    "\n",
    "- Atributos protegidos (_atributo) **não são realmente protegidos** — é apenas uma convenção para indicar que devem ser tratados como internos à classe.\n",
    "  \n",
    "- Atributos privados (__atributo) também **não são verdadeiramente inacessíveis**, pois Python apenas renomeia (name mangling) o atributo, tornando-o acessível por _Classe__atributo.\n",
    "\n",
    "**Imagine um cofre com um aviso escrito: \"Favor não abrir sem permissão.\" O cofre está trancado? Não. Mas o aviso deixa claro que você não deveria mexer nele. O encapsulamento em Python funciona da mesma forma: o acesso aos dados não é bloqueado, mas há indicações claras de que certos atributos não devem ser modificados diretamente.**"
   ]
  },
  {
   "cell_type": "markdown",
   "metadata": {},
   "source": [
    "### **Herança**"
   ]
  },
  {
   "cell_type": "markdown",
   "metadata": {},
   "source": [
    "#### **Definição intuitiva**\n",
    "\n",
    "**Herança permite criar novas classes a partir de classes existentes**, aproveitando e reutilizando código.\n",
    "\n",
    "Imagine que uma empresa tem diferentes tipos de funcionários: estagiários, analistas e gerentes. Todos compartilham algumas características básicas, como nome e salário, mas têm responsabilidades diferentes. **Em vez de criar classes separadas do zero, podemos definir uma classe geral Funcionario e fazer com que Estagiario, Analista e Gerente herdem suas características básicas, adicionando apenas os detalhes específicos de cada um**."
   ]
  },
  {
   "cell_type": "markdown",
   "metadata": {},
   "source": [
    "#### **Herança na programação**\n",
    "\n",
    "**Na programação, a herança permite que uma classe filha (subclasse) herde atributos e métodos de uma classe pai (superclasse). Isso evita duplicação de código e facilita a manutenção.**"
   ]
  },
  {
   "cell_type": "code",
   "execution_count": null,
   "metadata": {},
   "outputs": [
    {
     "name": "stdout",
     "output_type": "stream",
     "text": [
      "Nome: Ana, Salário: R$ 5000\n",
      "Área: TI\n"
     ]
    }
   ],
   "source": [
    "# Definição da classe pai (superclasse)\n",
    "class Funcionario:\n",
    "    def __init__(self, nome, salario):     \n",
    "        self.nome = nome\n",
    "        self.salario = salario\n",
    "\n",
    "    def exibir_dados(self):\n",
    "        print(f\"Nome: {self.nome}, Salário: R$ {self.salario}\")\n",
    "\n",
    "# Definição da classe filho (subclasse) \n",
    "class Analista(Funcionario): # A sintaxe \"class Analista(Funcionario)\" indica que a subclasse Analista\n",
    "                             # herda os atributos e métodos da superclasse Funcionario\n",
    "                             \n",
    "    def __init__(self, nome, salario, area):\n",
    "        \"\"\"\n",
    "            O método __init__ da subclasse chama o __init__ da superclasse usando super().\n",
    "            Isso evita a necessidade de reescrever a inicialização dos atributos nome e salario.\n",
    "        \"\"\"\n",
    "        \n",
    "        super().__init__(nome, salario)  # Chama o construtor da superclasse Funcionario\n",
    "        self.area = area  # Adiciona um novo atributo exclusivo da subclasse\n",
    "\n",
    "    def exibir_dados(self):\n",
    "        \"\"\"\n",
    "            O método exibir_dados da subclasse reutiliza o método de mesmo nome da superclasse.\n",
    "            Primeiro, chama super().exibir_dados(), que exibe nome e salário. Depois, adiciona \n",
    "            a exibição da área específica do Analista.\n",
    "        \"\"\"\n",
    "        \n",
    "        super().exibir_dados()  # Chama o método exibir_dados() da superclasse\n",
    "        print(f\"Área: {self.area}\")  # Adiciona a nova informação exclusiva da subclasse\n",
    "\n",
    "# Criando um objeto da classe Analista\n",
    "ana = Analista(\"Ana\", 5000, \"TI\")\n",
    "\n",
    "# Chamando o método exibir_dados()\n",
    "ana.exibir_dados()\n",
    "\n",
    "# Saída esperada:\n",
    "# Nome: Ana, Salário: R$ 5000\n",
    "# Área: TI\n",
    "\n",
    "# No exemplo acima, a classe Analista herda os atributos e métodos da classe Funcionario, \n",
    "# o que permite reutilizar a funcionalidade já definida. No entanto, ela tem a flexibilidade \n",
    "# de adicionar novos atributos, como o \"area\", e personalizar comportamentos, como fizemos \n",
    "# ao sobrescrever o método \"exibir_dados()\", para adaptar o comportamento da classe filha às necessidades específicas."
   ]
  },
  {
   "cell_type": "markdown",
   "metadata": {},
   "source": [
    "#### **Em suma, o que significa herdar algo em POO?**\n",
    "\n",
    "**Quando uma classe herda de outra, ela automaticamente recebe os atributos e métodos da classe pai. Isso significa que podemos:**\n",
    "\n",
    "- **Criar objetos da subclasse e usar métodos da superclasse sem reimplementá-los**.\n",
    "\n",
    "- **Adicionar novos atributos e métodos específicos da subclasse**.\n",
    "\n",
    "- **Sobrescrever métodos para personalizar o comportamento da subclasse**.\n",
    "\n",
    "Por exemplo, Analista herdou exibir_dados() de Funcionario, mas sobrescreveu esse método para exibir também a área de atuação. *(Esse comportamento de sobrescrever métodos é um exemplo clássico de polimorfismo, que veremos com mais detalhes no próximo tópico)*"
   ]
  },
  {
   "cell_type": "markdown",
   "metadata": {},
   "source": [
    "### **Polimorfismo**"
   ]
  },
  {
   "cell_type": "markdown",
   "metadata": {},
   "source": [
    "#### **Definição intuitiva**\n",
    "\n",
    "**Polimorfismo significa 'muitas formas'. Esse conceito permite que classes relacionadas por herança tenham métodos com o mesmo nome, mas comportamentos diferentes.**\n",
    "\n",
    "Imagine que uma empresa tem vários tipos de funcionários: estagiários, analistas e gerentes. Todos recebem salário, mas de formas diferentes:\n",
    "\n",
    "- Estagiários recebem bolsa-auxílio.\n",
    "\n",
    "- Analistas recebem salário fixo.\n",
    "\n",
    "- Gerentes podem ter bônus adicionais.\n",
    "  \n",
    "Se quisermos calcular o pagamento de qualquer funcionário sem nos preocupar com o tipo específico dele, podemos usar o conceito de polimorfismo."
   ]
  },
  {
   "cell_type": "markdown",
   "metadata": {},
   "source": [
    "#### **Polimorfismo na programação**\n",
    "\n",
    "Na programação, polimorfismo permite que métodos com o mesmo nome tenham implementações diferentes em classes relacionadas por herança. Isso torna o código mais flexível e reutilizável.\n",
    "\n",
    "Vamos ver na prática:"
   ]
  },
  {
   "cell_type": "code",
   "execution_count": null,
   "metadata": {},
   "outputs": [],
   "source": [
    "# Definição da classe base (superclasse)\n",
    "class Funcionario:\n",
    "    def __init__(self, nome, salario):\n",
    "        \"\"\"\n",
    "            Inicializa os atributos nome e salario.\n",
    "        \"\"\"\n",
    "        \n",
    "        self.nome = nome\n",
    "        self.salario = salario\n",
    "\n",
    "    def calcular_pagamento(self):\n",
    "        \"\"\"\n",
    "            Retorna o salário do funcionário. Este método pode ser sobrescrito em subclasses.\n",
    "        \"\"\"\n",
    "        \n",
    "        return self.salario\n",
    "\n",
    "# Subclasse Estagiario herdando de Funcionario\n",
    "class Estagiario(Funcionario):\n",
    "    def __init__(self, nome, bolsa_auxilio):\n",
    "        \"\"\"\n",
    "            Chama o construtor da superclasse passando a bolsa_auxilio como salário.\n",
    "        \"\"\"\n",
    "        \n",
    "        super().__init__(nome, bolsa_auxilio)\n",
    "\n",
    "    def calcular_pagamento(self):\n",
    "        \"\"\"\n",
    "            Sobrescreve o método calcular_pagamento da superclasse.\n",
    "            Para estagiários, o pagamento é apenas a bolsa_auxilio (salario no contexto da superclasse).\n",
    "        \"\"\"\n",
    "        \n",
    "        return self.salario  \n",
    "\n",
    "# Subclasse Gerente herdando de Funcionario\n",
    "class Gerente(Funcionario):\n",
    "    def __init__(self, nome, salario, bonus):\n",
    "        \"\"\"\n",
    "            Chama o construtor da superclasse e adiciona o atributo bonus.\n",
    "        \"\"\"\n",
    "        \n",
    "        super().__init__(nome, salario)\n",
    "        self.bonus = bonus\n",
    "\n",
    "    def calcular_pagamento(self):\n",
    "        \"\"\"\n",
    "            Sobrescreve o método calcular_pagamento da superclasse.\n",
    "            Para gerentes, o pagamento inclui o salário e um bônus adicional.\n",
    "        \"\"\"\n",
    "        \n",
    "        return self.salario + self.bonus  \n",
    "\n",
    "# Criando objetos de diferentes classes\n",
    "funcionario1 = Funcionario(\"Carlos\", 5000)\n",
    "estagiario1 = Estagiario(\"Ana\", 2000)\n",
    "gerente1 = Gerente(\"Mariana\", 8000, 2000)\n",
    "\n",
    "# Chamando o mesmo método para diferentes tipos de funcionários\n",
    "print(funcionario1.calcular_pagamento())  # 5000\n",
    "print(estagiario1.calcular_pagamento())   # 2000\n",
    "print(gerente1.calcular_pagamento())      # 10000 (salário + bônus)\n",
    "\n",
    "# O que aconteceu aqui?\n",
    "# Mesmo que Funcionario, Estagiario e Gerente tenham o método calcular_pagamento(),\n",
    "# cada um se comporta de forma diferente. Isso é polimorfismo!"
   ]
  },
  {
   "cell_type": "markdown",
   "metadata": {},
   "source": [
    "#### **Em Resumo**\n",
    "\n",
    "- Polimorfismo permite que diferentes classes tenham métodos com o mesmo nome, mas comportamentos diferentes.\n",
    "  \n",
    "- Ele torna o código mais genérico e reutilizável, pois podemos tratar objetos de diferentes classes de forma uniforme."
   ]
  },
  {
   "cell_type": "markdown",
   "metadata": {},
   "source": [
    "# **Módulo 3 - Projeto Final e Conclusões**"
   ]
  },
  {
   "cell_type": "markdown",
   "metadata": {
    "vscode": {
     "languageId": "plaintext"
    }
   },
   "source": [
    "## **Projeto Final**"
   ]
  },
  {
   "cell_type": "markdown",
   "metadata": {},
   "source": [
    "## **POO na Prática: O Que Você Já Usava Sem Perceber**"
   ]
  },
  {
   "cell_type": "markdown",
   "metadata": {},
   "source": [
    "## **Conclusão: POO é uma Nova Forma de Pensar Programação**"
   ]
  }
 ],
 "metadata": {
  "kernelspec": {
   "display_name": "Python 3",
   "language": "python",
   "name": "python3"
  },
  "language_info": {
   "codemirror_mode": {
    "name": "ipython",
    "version": 3
   },
   "file_extension": ".py",
   "mimetype": "text/x-python",
   "name": "python",
   "nbconvert_exporter": "python",
   "pygments_lexer": "ipython3",
   "version": "3.10.12"
  }
 },
 "nbformat": 4,
 "nbformat_minor": 2
}
